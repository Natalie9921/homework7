{
 "cells": [
  {
   "cell_type": "markdown",
   "metadata": {
    "ExecuteTime": {
     "end_time": "2021-07-20T09:16:22.081113Z",
     "start_time": "2021-07-20T09:16:22.072320Z"
    }
   },
   "source": [
    "&emsp;&emsp;&emsp;&emsp;&emsp;&emsp;&emsp;&emsp; **JLUFE**  &emsp;&emsp;&emsp;&emsp;&emsp;&emsp;&emsp;&emsp;&emsp;&emsp;&emsp;&emsp;&emsp;&emsp;&emsp;&emsp;&emsp;&emsp;&emsp;&emsp;&emsp;&emsp;&emsp;&emsp;&emsp;&emsp;&emsp;&emsp;&emsp;&emsp;&emsp;&emsp;&emsp;&ensp;&emsp;&ensp;&emsp;&ensp;&emsp;&ensp;&emsp;&ensp;**Spring 2022(Feb-Jul)**  \n",
    "\n",
    "\n",
    "**<div align=\"center\">Homework Assignment Report</div>**\n",
    "<br>\n",
    "\n",
    "**<div align=\"center\">JILIN UNIVERSITY OF FINANCE AND ECONOMICS</div>**\n",
    "<br>\n",
    "\n",
    "**<div align=\"center\"><span style=\"color:blue\">College of Managment Science and Information Engineering</span></div>**\n",
    "\n",
    "**<div align=\"center\">MSc in <span style=\"color:blue\">Data Science and Big Data Technology</span></div>**\n",
    "\n",
    "**<div align=\"center\">(2022)</div>**\n",
    "\n",
    "<br> \n",
    "\n",
    "**<div align=\"center\">MODULE: Python Statistical Analysis and Modeling</div>**\n",
    "\n",
    "**<div align=\"center\">Homework Assignment: 01</div>**\n",
    "\n",
    "**<div align=\"center\">Operators \\& Data Types (String, List, Tuple, Sets, Dictionary)</div>**\n",
    "\n",
    "**<div align=\"center\">28/03/2022</div>**\n",
    "\n",
    "<br>\n",
    "\n",
    "**<div align=\"center\">Submitted by:</div>**\n",
    "\n",
    "**<div align=\"center\"><span style=\"color:blue\">Milan(米兰) 0318021907632 (2005)</span></div>**\n",
    "**<div align=\"center\">QQ: <span style=\"color:blue\">3086215265</span> | Github ID: <span style=\"color:blue\">milaan9</span></div>**"
   ]
  },
  {
   "cell_type": "markdown",
   "metadata": {},
   "source": [
    "# Instructions: \n",
    "\n",
    "\n",
    "1. I have added tips and required learning resources for each question, which helps you to solve the problems. \n",
    "\n",
    "2. Finish the assignment on your **OWN**. **<span style=\"color:red\">Any student find copying/sharing from classmates or internet will get '0' points!!!</span>**\n",
    "\n",
    "3. After <span class='label label-default'>Accepting this assignment</span> from ➞ **[GitHub Clasroom link](https://classroom.github.com/a/o5NVmJK7)**, Github will create private repository of the assignment in your GitHub Classroom account.\n",
    "\n",
    "4. In your repository <span class='label label-default'>Clone</span> ➞ <span class='label label-default'>Download ZIP</span> in your computer.\n",
    "\n",
    "5. Change your ➞ <span style=\"color:blue\">**College**</span>, <span style=\"color:blue\">**Major**</span>, <span style=\"color:blue\">**Name**</span>, <span style=\"color:blue\">**Student number**</span>, <span style=\"color:blue\">**Class number**</span>, <span style=\"color:blue\">**QQ number**</span>, and <span style=\"color:blue\">**GitHub ID**</span>\n",
    "\n",
    "6. Once you finish the Assignment **[convert your .ipynb file into PDF](https://github.com/milaan9/91_Python_Mini_Projects/tree/main/001_Convert_IPython_to_PDF)** (both **.ipynb** and **.pdf** file will be required!)\n",
    "\n",
    "7. To submit your assignment, go to GitHub Classroom repository and <span class='label label-default'>Add file</span> ➞ <span class='label label-default'>Upload files</span> ➞ <span class='label label-default'>Commit changes</span>\n",
    "    1. Replace the question (**.ipynb**) file with your solution (**.ipynb**) file.\n",
    "    2. Also, upload (**.pdf**) converted file of your solution (**.ipynb**) file."
   ]
  },
  {
   "cell_type": "markdown",
   "metadata": {},
   "source": [
    "# Python Assignment 01"
   ]
  },
  {
   "cell_type": "markdown",
   "metadata": {},
   "source": [
    "# Part A ➞ Operators <span class='label label-default'>Level 1</span>\n",
    "\n",
    ">**Note:** Please create new cell for each question"
   ]
  },
  {
   "cell_type": "markdown",
   "metadata": {},
   "source": [
    "1. Declare your age as integer variable\n",
    "2. Declare your height as a float variable\n",
    "3. Declare a variable that store a complex number\n",
    "4. Write a code by taking user **[input()](https://github.com/milaan9/04_Python_Functions/blob/main/002_Python_Functions_Built_in/032_Python_input%28%29.ipynb)** to enter base and height of the triangle and calculate an area of this triangle ($area = 0.5 * a * b$) and the perimeter of the triangle ($perimeter = a + b + c$).\n",
    "\n",
    "    - ```py\n",
    "    Enter base: 20\n",
    "    Enter height: 10\n",
    "    The area of the triangle is 100\n",
    "    The perimeter of the triangle is 12\n",
    "    ```\n",
    "\n",
    "5. Calculate the value of **`y`**: ($y = x^2 + 6x + 9$). Try to use different **`x`** values and figure out at what **`x`** value **`y`** is going to be 0.\n",
    "6. Find the length of **`'python'`** and **`'datascience'`** and compare if the length are same using **`==`**.\n",
    "7. Use **`and`** operator to check if **`on`** is found in both **`python`** and **`cannon`**\n",
    "8. **`I hope this course is not full of jargon`**. Use **`in`** operator to check if **`jargon`** is in the sentence.\n",
    "9. There is no **`on`** in both **`python`** and **`cannon`**\n",
    "10. Find the length of the text **`python`** and convert the value to float and convert it to string\n",
    "11. Even numbers are divisible by 2 and the remainder is zero. How do you check if a number is even or not using python?\n",
    "12. Check if the floor division of 7 by 3 is equal to the int converted value of 2.7.\n",
    "13. Check if type of **\"10\"** is equal to type of 10\n",
    "14. Write a code that prompts the user to enter hours and rate per hour. Calculate pay of the person?\n",
    "\n",
    "    - ```py\n",
    "Enter hours: 40\n",
    "Enter rate per hour: 30\n",
    "Your weekly earning is 1200\n",
    "    ```\n",
    "\n",
    "15. Write a script that prompts the user to enter number of years. Calculate the number of seconds a person can live. Assume a person can live hundred years\n",
    "\n",
    "    - ```py\n",
    "Enter number of years you have lived: 100\n",
    "You have lived for 3153600000 seconds.\n",
    "    ```\n",
    "\n",
    "16. Write a Python code that displays the following table **using operators**\n",
    "\n",
    "    - ```py\n",
    "1 2 3 4 5  \n",
    "2 4 6 8 10\n",
    "3 6 9 12 15\n",
    "4 8 12 16 20\n",
    "5 10 15 20 25\n",
    "    ```"
   ]
  },
  {
   "cell_type": "code",
   "execution_count": 22,
   "metadata": {},
   "outputs": [
    {
     "name": "stdout",
     "output_type": "stream",
     "text": [
      "22 <class 'int'>\n"
     ]
    }
   ],
   "source": [
    "# Solution: \n",
    "#1  Declare your age as integer variable\n",
    "age=22\n",
    "print(age,type(age))"
   ]
  },
  {
   "cell_type": "code",
   "execution_count": 21,
   "metadata": {},
   "outputs": [
    {
     "name": "stdout",
     "output_type": "stream",
     "text": [
      "170.0 <class 'float'>\n"
     ]
    }
   ],
   "source": [
    "#2  Declare your height as a float variable\n",
    "height=170.0\n",
    "print(height,type(height))"
   ]
  },
  {
   "cell_type": "code",
   "execution_count": 27,
   "metadata": {},
   "outputs": [
    {
     "name": "stdout",
     "output_type": "stream",
     "text": [
      "(7+5j) <class 'complex'>\n"
     ]
    }
   ],
   "source": [
    "#3  Declare a variable that store a complex number\n",
    "complex_num=7+5j\n",
    "print(complex_num,type(complex_num))"
   ]
  },
  {
   "cell_type": "code",
   "execution_count": 1,
   "metadata": {},
   "outputs": [
    {
     "name": "stdout",
     "output_type": "stream",
     "text": [
      "Enter base:20\n",
      "Enter height:10\n",
      "The area of the triangle is 100.0\n",
      "输入side a:3\n",
      "输入side b:4\n",
      "输入side c:5\n",
      "The perimeter of the triangle is 12\n"
     ]
    }
   ],
   "source": [
    "#4  Write a code by taking user input() to enter base and height of the triangle and calculate an area of this triangle (𝑎𝑟𝑒𝑎=0.5∗𝑎∗𝑏) \n",
    "#   and the perimeter of the triangle (𝑝𝑒𝑟𝑖𝑚𝑒𝑡𝑒𝑟=𝑎+𝑏+𝑐).\n",
    "d=int(input('Enter base:'))\n",
    "h=int(input('Enter height:'))\n",
    "area=0.5*d*h\n",
    "print('The area of the triangle is',area)\n",
    "a=int(input('输入side a:'))\n",
    "b=int(input('输入side b:'))\n",
    "c=int(input('输入side c:'))\n",
    "perimeter=a+b+c\n",
    "print('The perimeter of the triangle is',perimeter)"
   ]
  },
  {
   "cell_type": "code",
   "execution_count": 2,
   "metadata": {},
   "outputs": [
    {
     "name": "stdout",
     "output_type": "stream",
     "text": [
      "x的值:3\n",
      "y= 36\n"
     ]
    }
   ],
   "source": [
    "#5  Calculate the value of y: (𝑦=𝑥2+6𝑥+9). \n",
    "x=int(input('x的值:'))\n",
    "y=x**2+6*x+9\n",
    "print('y=',y)"
   ]
  },
  {
   "cell_type": "code",
   "execution_count": 7,
   "metadata": {},
   "outputs": [
    {
     "name": "stdout",
     "output_type": "stream",
     "text": [
      "x的值:-3\n",
      "y= 0\n"
     ]
    }
   ],
   "source": [
    "#5  Try to use different x values and figure out at what x value y is going to be 0.\n",
    "x=int(input('x的值:'))\n",
    "y=x**2+6*x+9\n",
    "print('y=',y)"
   ]
  },
  {
   "cell_type": "code",
   "execution_count": 8,
   "metadata": {},
   "outputs": [
    {
     "name": "stdout",
     "output_type": "stream",
     "text": [
      "the length of python: 6\n",
      "the length of datascience: 11\n",
      "True\n",
      "False\n",
      "False\n"
     ]
    }
   ],
   "source": [
    "#6  Find the length of 'python' and 'datascience' and compare if the length are same using ==.\n",
    "print('the length of python:',len('python'))\n",
    "print('the length of datascience:',len('datascience'))\n",
    "print(len('python')<len('datascience'))\n",
    "print(len('python')==len('datascience'))\n",
    "print(len('python')>len('datascience'))"
   ]
  },
  {
   "cell_type": "code",
   "execution_count": 9,
   "metadata": {
    "scrolled": true
   },
   "outputs": [
    {
     "name": "stdout",
     "output_type": "stream",
     "text": [
      "on in python and cannon True\n"
     ]
    }
   ],
   "source": [
    "#7  Use and operator to check if on is found in both python and cannon\n",
    "print('on in python and cannon','on' in 'python' and 'on' in 'cannon')"
   ]
  },
  {
   "cell_type": "code",
   "execution_count": 10,
   "metadata": {},
   "outputs": [
    {
     "name": "stdout",
     "output_type": "stream",
     "text": [
      "True\n"
     ]
    }
   ],
   "source": [
    "#8  I hope this course is not full of jargon. Use in operator to check if jargon is in the sentence.\n",
    "print('jargon' in 'I hope this course is not full of jargon')"
   ]
  },
  {
   "cell_type": "code",
   "execution_count": 11,
   "metadata": {},
   "outputs": [
    {
     "name": "stdout",
     "output_type": "stream",
     "text": [
      "False\n"
     ]
    }
   ],
   "source": [
    "#9  There is no on in both python and cannon\n",
    "print('on' in 'python' and 'on' in 'cannon'==False)"
   ]
  },
  {
   "cell_type": "code",
   "execution_count": 12,
   "metadata": {},
   "outputs": [
    {
     "name": "stdout",
     "output_type": "stream",
     "text": [
      "length: 6 <class 'int'>\n",
      "float: 6.0 <class 'float'>\n",
      "string: 6 <class 'str'>\n"
     ]
    }
   ],
   "source": [
    "#10  Find the length of the text python and convert the value to float and convert it to string\n",
    "print('length:',len('python'),type(len('python')))\n",
    "print('float:',float(len('python')),type(float(len('python'))))\n",
    "print('string:',str(len('python')),type(str(len('python'))))"
   ]
  },
  {
   "cell_type": "code",
   "execution_count": 13,
   "metadata": {},
   "outputs": [
    {
     "name": "stdout",
     "output_type": "stream",
     "text": [
      "输入数字:9\n",
      "奇数\n"
     ]
    }
   ],
   "source": [
    "#11  Even numbers are divisible by 2 and the remainder is zero. How do you check if a number is even or not using python?\n",
    "while True:\n",
    "    num=int(input('输入数字:'))\n",
    "    if num%2==0:\n",
    "        print('偶数')\n",
    "    else:\n",
    "        print('奇数')\n",
    "    break"
   ]
  },
  {
   "cell_type": "code",
   "execution_count": 14,
   "metadata": {},
   "outputs": [
    {
     "name": "stdout",
     "output_type": "stream",
     "text": [
      "False\n"
     ]
    }
   ],
   "source": [
    "#12  Check if the floor division of 7 by 3 is equal to the int converted value of 2.7.\n",
    "print(7/3==int(2.7))"
   ]
  },
  {
   "cell_type": "code",
   "execution_count": 15,
   "metadata": {},
   "outputs": [
    {
     "name": "stdout",
     "output_type": "stream",
     "text": [
      "False\n"
     ]
    }
   ],
   "source": [
    "#13  Check if type of \"10\" is equal to type of 10\n",
    "print(type('10')==type(10))"
   ]
  },
  {
   "cell_type": "code",
   "execution_count": 16,
   "metadata": {},
   "outputs": [
    {
     "name": "stdout",
     "output_type": "stream",
     "text": [
      "输入hours:40\n",
      "输入rate per hour:30\n",
      "Your weekly earning is 1200\n"
     ]
    }
   ],
   "source": [
    "#14  Write a code that prompts the user to enter hours and rate per hour. Calculate pay of the person?\n",
    "hours=int(input('输入hours:'))\n",
    "rate_per_hour=int(input('输入rate per hour:'))\n",
    "weekly_earning=hours*rate_per_hour\n",
    "print('Your weekly earning is',weekly_earning)"
   ]
  },
  {
   "cell_type": "code",
   "execution_count": 17,
   "metadata": {},
   "outputs": [
    {
     "name": "stdout",
     "output_type": "stream",
     "text": [
      "输入number of years you can live:100\n",
      "You have lived for 3153600000 seconds\n"
     ]
    }
   ],
   "source": [
    "#15  Write a script that prompts the user to enter number of years. \n",
    "#    Calculate the number of seconds a person can live. Assume a person can live hundred years\n",
    "\n",
    "years=int(input('输入number of years you can live:'))\n",
    "seconds=31536000*years\n",
    "print('You have lived for',seconds,'seconds')"
   ]
  },
  {
   "cell_type": "code",
   "execution_count": 18,
   "metadata": {},
   "outputs": [
    {
     "name": "stdout",
     "output_type": "stream",
     "text": [
      "1 2 3 4 5\n",
      "2 4 6 8 10\n",
      "3 6 9 12 15\n",
      "4 8 12 16 20\n",
      "5 10 15 20 25\n"
     ]
    }
   ],
   "source": [
    "#16  Write a Python code that displays the following table using operators\n",
    "a,b,c,d,e=1,2,3,4,5\n",
    "print(a,b,c,d,e)\n",
    "print(2*a,2*b,2*c,2*d,2*e)\n",
    "print(3*a,3*b,3*c,3*d,3*e)\n",
    "print(4*a,4*b,4*c,4*d,4*e)\n",
    "print(5*a,5*b,5*c,5*d,5*e)"
   ]
  },
  {
   "cell_type": "markdown",
   "metadata": {},
   "source": [
    "# Part B ➞ String <span class='label label-default'>Level 1</span>\n",
    "\n",
    ">**Note:** Please create new cell for each question"
   ]
  },
  {
   "cell_type": "markdown",
   "metadata": {},
   "source": [
    "1. Concatenate the string **`Python`**, **`4`**, **`Data`**, **`Science`** to a single string, **`Python 4 Data Science`**.\n",
    "\n",
    "2. Declare a variable named **`course`** and assign it to an initial value **`Python 4 Data Science`**.\n",
    "\n",
    "3. Print the length of the **`course`** string using **[len()](https://github.com/milaan9/04_Python_Functions/blob/main/002_Python_Functions_Built_in/040_Python_len%28%29.ipynb)** method and **[print()](https://github.com/milaan9/04_Python_Functions/blob/main/002_Python_Functions_Built_in/051_Python_print%28%29.ipynb)**.\n",
    "\n",
    "4. Change all the characters of variable company to uppercase and lowercase letters using **[upper()](https://github.com/milaan9/02_Python_Datatypes/blob/main/002_Python_String_Methods/026_Python_String_upper%28%29.ipynb)** and **[lower()](https://github.com/milaan9/02_Python_Datatypes/blob/main/002_Python_String_Methods/025_Python_String_lower%28%29.ipynb)** method.\n",
    "\n",
    "5. Use **[capitalize()](https://github.com/milaan9/02_Python_Datatypes/blob/main/002_Python_String_Methods/001_Python_String_capitalize%28%29.ipynb)**, **[title()](https://github.com/milaan9/02_Python_Datatypes/blob/main/002_Python_String_Methods/042_Python_String_title%28%29.ipynb)**, **[swapcase()](https://github.com/milaan9/02_Python_Datatypes/blob/main/002_Python_String_Methods/027_Python_String_swapcase%28%29.ipynb)** methods to format the value of the string **`Python 4 Data Science`**.\n",
    "\n",
    "6. Cut(slice) out the first word of **`Python 4 Data Science`**.\n",
    "\n",
    "7. Check if **`Python 4 Data Science`** string contains a word **`Python`** using the method: **[index()](https://github.com/milaan9/02_Python_Datatypes/blob/main/002_Python_String_Methods/010_Python_String_index%28%29.ipynb)**, **[find()](https://github.com/milaan9/02_Python_Datatypes/blob/main/002_Python_String_Methods/008_Python_String_find%28%29.ipynb)** or other methods.\n",
    "\n",
    "8. Change **`Python 4 Data Science`** to **`Python 4 Everybody`** using the **[replace()](https://github.com/milaan9/02_Python_Datatypes/blob/main/002_Python_String_Methods/035_Python_String_replace%28%29.ipynb)** method or other methods.\n",
    "\n",
    "9. Split the string **`Python 4 Data Science`** using space as the separator (**[split()](https://github.com/milaan9/02_Python_Datatypes/blob/main/002_Python_String_Methods/038_Python_String_split%28%29.ipynb)**).\n",
    "\n",
    "11. **`Google, Facebook, Microsoft, Apple, IBM, Oracle, Amazon`** split the string at the comma.\n",
    "\n",
    "12. What is the character at index 9 in the string **`Python 4 Data Science`**.\n",
    "\n",
    "13. What is the second last index of the string **`Python 4 Data Science`**.\n",
    "\n",
    "14. Create an acronym or an abbreviation for the name **`Python 4 Data Science`**.\n",
    "\n",
    "15. Use **[index()](https://github.com/milaan9/02_Python_Datatypes/blob/main/002_Python_String_Methods/010_Python_String_index%28%29.ipynb)** to determine the position of the first occurrence of **`D`** in **`Python 4 Data Science`**.\n",
    "\n",
    "16. Use **[rfind](https://github.com/milaan9/02_Python_Datatypes/blob/main/002_Python_String_Methods/036_Python_String_rfind%28%29.ipynb)** to determine the position of the last occurrence of **`e`** in **`Python 4 Data Science`**.\n",
    "\n",
    "17. Use **[index()](https://github.com/milaan9/02_Python_Datatypes/blob/main/002_Python_String_Methods/010_Python_String_index%28%29.ipynb)** or **[find()](https://github.com/milaan9/02_Python_Datatypes/blob/main/002_Python_String_Methods/008_Python_String_find%28%29.ipynb)** to find the position of the first occurrence of the word **`because`** in the following sentence: \n",
    "\n",
    "    - **`We cannot end the sentence with 'because', because 'because' is a conjunction.`**.\n",
    "\n",
    "18. Use **[rindex](https://github.com/milaan9/02_Python_Datatypes/blob/main/002_Python_String_Methods/037_Python_String_rindex%28%29.ipynb)** to find the position of the first and last occurrence of the word **`because`** in the following sentence: \n",
    "\n",
    "    - **`We cannot end the sentence with 'because', because 'because' is a conjunction.`**.\n",
    "\n",
    "19. Slice out the phrase **`'because', because 'because'`** in the following sentence: \n",
    "\n",
    "    - **`We cannot end the sentence with 'because', because 'because' is a conjunction.`**.\n",
    "\n",
    "20. Does **`Python 4 Data Science`** start with a substring **`Python`**?\n",
    "\n",
    "21. Does '**`Python 4 Data Science`** contains with a substring **`Python`**?\n",
    "\n",
    "22. **`             Python 4 DataScience                                  `** remove the left and right trailing spaces in the given string.\n",
    "\n",
    "23. The following list contains the names of some of python libraries: **`['Django', 'Flask', 'Bottle', 'Pyramid', 'Falcon']`**. Join the list with a hash **` # `** with space string.\n",
    "\n",
    "24. Which one of the following variables return **`True`** when we use the method **[isidentifier()](https://github.com/milaan9/02_Python_Datatypes/blob/main/002_Python_String_Methods/015_Python_String_isidentifier%28%29.ipynb)**\n",
    "    - ```py\n",
    "    2021PythonDataypes\n",
    "    Python_Dataypes_2021\n",
    "    ```\n",
    "25. Make the following using string formatting methods:\n",
    "\n",
    "    - ```py\n",
    "8 + 6 = 14\n",
    "8 - 6 = 2\n",
    "8 * 6 = 48\n",
    "8 / 6 = 1.33\n",
    "8 % 6 = 2\n",
    "8 // 6 = 1\n",
    "8 ** 6 = 262144\n",
    "    ```\n",
    "\n",
    "26. Use a **new line** and **tab** escape sequence to print the following lines.\n",
    "    - ```py\n",
    "    Name      Age     Country   City\n",
    "    Milaan    96      USA       Starkville\n",
    "    ```"
   ]
  },
  {
   "cell_type": "code",
   "execution_count": 110,
   "metadata": {},
   "outputs": [
    {
     "data": {
      "text/plain": [
       "'Python 4 Data Science'"
      ]
     },
     "execution_count": 110,
     "metadata": {},
     "output_type": "execute_result"
    }
   ],
   "source": [
    "# Solution: \n",
    "#1  Concatenate the string Python, 4, Data, Science to a single string, Python 4 Data Science.\n",
    "' '.join(['Python','4', 'Data', 'Science'])"
   ]
  },
  {
   "cell_type": "code",
   "execution_count": 113,
   "metadata": {},
   "outputs": [
    {
     "name": "stdout",
     "output_type": "stream",
     "text": [
      "Python 4 Data Science\n"
     ]
    }
   ],
   "source": [
    "#2  Declare a variable named course and assign it to an initial value Python 4 Data Science.\n",
    "course=\"Python 4 Data Science\"\n",
    "print(course)"
   ]
  },
  {
   "cell_type": "code",
   "execution_count": 117,
   "metadata": {},
   "outputs": [
    {
     "data": {
      "text/plain": [
       "21"
      ]
     },
     "execution_count": 117,
     "metadata": {},
     "output_type": "execute_result"
    }
   ],
   "source": [
    "#3  Print the length of the course string using len() method and print().\n",
    "#   len():\n",
    "len(course)"
   ]
  },
  {
   "cell_type": "code",
   "execution_count": 118,
   "metadata": {},
   "outputs": [
    {
     "name": "stdout",
     "output_type": "stream",
     "text": [
      "21\n"
     ]
    }
   ],
   "source": [
    "#3  Print the length of the course string using len() method and print().\n",
    "#   print():\n",
    "print(len(course))"
   ]
  },
  {
   "cell_type": "code",
   "execution_count": 121,
   "metadata": {},
   "outputs": [
    {
     "name": "stdout",
     "output_type": "stream",
     "text": [
      "PYTHON 4 DATA SCIENCE\n",
      "python 4 data science\n"
     ]
    }
   ],
   "source": [
    "#4  Change all the characters of variable company to uppercase and lowercase letters using upper() and lower() method.\n",
    "company=\"Python 4 Data Science\"\n",
    "print(company.upper())\n",
    "print(company.lower())"
   ]
  },
  {
   "cell_type": "code",
   "execution_count": 131,
   "metadata": {},
   "outputs": [
    {
     "name": "stdout",
     "output_type": "stream",
     "text": [
      "Python 4 data science\n",
      "Python 4 Data Science\n",
      "pYTHON 4 dATA sCIENCE\n"
     ]
    }
   ],
   "source": [
    "#5  Use capitalize(), title(), swapcase() methods to format the value of the string Python 4 Data Science.\n",
    "s=\"Python 4 Data Science\"\n",
    "print(s.capitalize())\n",
    "print(s.title())\n",
    "print(s.swapcase())"
   ]
  },
  {
   "cell_type": "code",
   "execution_count": 130,
   "metadata": {},
   "outputs": [
    {
     "name": "stdout",
     "output_type": "stream",
     "text": [
      "Python\n"
     ]
    }
   ],
   "source": [
    "#6  Cut(slice) out the first word of Python 4 Data Science.\n",
    "s=\"Python 4 Data Science\"\n",
    "print(s[0:6])"
   ]
  },
  {
   "cell_type": "code",
   "execution_count": 138,
   "metadata": {},
   "outputs": [
    {
     "data": {
      "text/plain": [
       "True"
      ]
     },
     "execution_count": 138,
     "metadata": {},
     "output_type": "execute_result"
    }
   ],
   "source": [
    "#7  Check if Python 4 Data Science string contains a word Python using the method: index(), find() or other methods.\n",
    "#   find():\n",
    "s=\"Python 4 Data Science\"\n",
    "s.find(\"Python\")!=True"
   ]
  },
  {
   "cell_type": "code",
   "execution_count": 143,
   "metadata": {},
   "outputs": [
    {
     "data": {
      "text/plain": [
       "True"
      ]
     },
     "execution_count": 143,
     "metadata": {},
     "output_type": "execute_result"
    }
   ],
   "source": [
    "#7  Check if Python 4 Data Science string contains a word Python using the method: index(), find() or other methods.\n",
    "#   index():\n",
    "s=\"Python 4 Data Science\"\n",
    "p=\"Python\"\n",
    "s.index(p)!=True"
   ]
  },
  {
   "cell_type": "code",
   "execution_count": 137,
   "metadata": {},
   "outputs": [
    {
     "name": "stdout",
     "output_type": "stream",
     "text": [
      "True\n"
     ]
    }
   ],
   "source": [
    "#7  Check if Python 4 Data Science string contains a word Python using the method: index(), find() or other methods.\n",
    "#   in:\n",
    "s=\"Python 4 Data Science\"\n",
    "p=\"Python\"\n",
    "print(p in s)"
   ]
  },
  {
   "cell_type": "code",
   "execution_count": 149,
   "metadata": {},
   "outputs": [
    {
     "name": "stdout",
     "output_type": "stream",
     "text": [
      "Python 4 Everybody\n"
     ]
    }
   ],
   "source": [
    "#8  Change Python 4 Data Science to Python 4 Everybody using the replace() method or other methods.\n",
    "s=\"Python 4 Data Science\"\n",
    "s1=s.replace(\"Data Science\",\"Everybody\")\n",
    "print(s1)"
   ]
  },
  {
   "cell_type": "code",
   "execution_count": 147,
   "metadata": {},
   "outputs": [
    {
     "data": {
      "text/plain": [
       "['Python', '4', 'Data', 'Science']"
      ]
     },
     "execution_count": 147,
     "metadata": {},
     "output_type": "execute_result"
    }
   ],
   "source": [
    "#9  Split the string Python 4 Data Science using space as the separator (split()).\n",
    "s=\"Python 4 Data Science\"\n",
    "s.split()"
   ]
  },
  {
   "cell_type": "code",
   "execution_count": 150,
   "metadata": {},
   "outputs": [
    {
     "data": {
      "text/plain": [
       "['Google,', 'Facebook,', 'Microsoft,', 'Apple,', 'IBM,', 'Oracle,', 'Amazon']"
      ]
     },
     "execution_count": 150,
     "metadata": {},
     "output_type": "execute_result"
    }
   ],
   "source": [
    "#10  Google, Facebook, Microsoft, Apple, IBM, Oracle, Amazon split the string at the comma.\n",
    "a=\"Google, Facebook, Microsoft, Apple, IBM, Oracle, Amazon\"\n",
    "a.split()"
   ]
  },
  {
   "cell_type": "code",
   "execution_count": 157,
   "metadata": {},
   "outputs": [
    {
     "name": "stdout",
     "output_type": "stream",
     "text": [
      "D\n"
     ]
    }
   ],
   "source": [
    "#11  What is the character at index 9 in the string Python 4 Data Science.\n",
    "s=\"Python 4 Data Science\"\n",
    "print(s[9])"
   ]
  },
  {
   "cell_type": "code",
   "execution_count": 158,
   "metadata": {},
   "outputs": [
    {
     "name": "stdout",
     "output_type": "stream",
     "text": [
      "c\n"
     ]
    }
   ],
   "source": [
    "#12  What is the second last index of the string Python 4 Data Science.\n",
    "s=\"Python 4 Data Science\"\n",
    "print(s[-2])"
   ]
  },
  {
   "cell_type": "code",
   "execution_count": 170,
   "metadata": {},
   "outputs": [
    {
     "name": "stdout",
     "output_type": "stream",
     "text": [
      "P 4 D S\n"
     ]
    }
   ],
   "source": [
    "#13  Create an acronym or an abbreviation for the name Python 4 Data Science.\n",
    "s=\"Python 4 Data Science\"\n",
    "print(s[0],s[7],s[9],s[14])"
   ]
  },
  {
   "cell_type": "code",
   "execution_count": 155,
   "metadata": {},
   "outputs": [
    {
     "name": "stdout",
     "output_type": "stream",
     "text": [
      "9\n"
     ]
    }
   ],
   "source": [
    "#14  Use index() to determine the position of the first occurrence of D in Python 4 Data Science.\n",
    "s=\"Python 4 Data Science\"\n",
    "print(s.index('D'))  "
   ]
  },
  {
   "cell_type": "code",
   "execution_count": 156,
   "metadata": {},
   "outputs": [
    {
     "name": "stdout",
     "output_type": "stream",
     "text": [
      "20\n"
     ]
    }
   ],
   "source": [
    "#15  Use rfind to determine the position of the last occurrence of e in Python 4 Data Science.\n",
    "s=\"Python 4 Data Science\"\n",
    "print(s.rfind('e'))  "
   ]
  },
  {
   "cell_type": "code",
   "execution_count": 172,
   "metadata": {},
   "outputs": [
    {
     "name": "stdout",
     "output_type": "stream",
     "text": [
      "33\n",
      "33\n"
     ]
    }
   ],
   "source": [
    "#16  Use index() or find() to find the position of the first occurrence of the word because in the following sentence:\n",
    "#    We cannot end the sentence with 'because', because 'because' is a conjunction.\n",
    "sentence=\"We cannot end the sentence with 'because', because 'because' is a conjunction.\"\n",
    "print(sentence.index('because'))\n",
    "print(sentence.find('because'))"
   ]
  },
  {
   "cell_type": "code",
   "execution_count": 184,
   "metadata": {},
   "outputs": [
    {
     "name": "stdout",
     "output_type": "stream",
     "text": [
      "33\n",
      "52\n"
     ]
    }
   ],
   "source": [
    "#17  Use rindex to find the position of the first and last occurrence of the word because in the following sentence:\n",
    "#    We cannot end the sentence with 'because', because 'because' is a conjunction.\n",
    "sentence=\"We cannot end the sentence with 'because', because 'because' is a conjunction.\"\n",
    "print(sentence.index('because'))\n",
    "print(sentence.rindex('because'))"
   ]
  },
  {
   "cell_type": "code",
   "execution_count": 176,
   "metadata": {},
   "outputs": [
    {
     "name": "stdout",
     "output_type": "stream",
     "text": [
      "because', because 'because'\n"
     ]
    }
   ],
   "source": [
    "#18  Slice out the phrase 'because', because 'because' in the following sentence:\n",
    "#    We cannot end the sentence with 'because', because 'because' is a conjunction.\n",
    "sentence=\"We cannot end the sentence with 'because', because 'because' is a conjunction.\"\n",
    "print(sentence[33:60])"
   ]
  },
  {
   "cell_type": "code",
   "execution_count": 177,
   "metadata": {},
   "outputs": [
    {
     "name": "stdout",
     "output_type": "stream",
     "text": [
      "True\n"
     ]
    }
   ],
   "source": [
    "#19  Does Python 4 Data Science start with a substring Python?\n",
    "s=\"Python 4 Data Science\"\n",
    "print(s.startswith('Python'))"
   ]
  },
  {
   "cell_type": "code",
   "execution_count": 178,
   "metadata": {},
   "outputs": [
    {
     "name": "stdout",
     "output_type": "stream",
     "text": [
      "True\n"
     ]
    }
   ],
   "source": [
    "#20  Does 'Python 4 Data Science contains with a substring Python?\n",
    "s=\"Python 4 Data Science\"\n",
    "print('Python' in s)"
   ]
  },
  {
   "cell_type": "code",
   "execution_count": 182,
   "metadata": {},
   "outputs": [
    {
     "data": {
      "text/plain": [
       "'Python 4 Data Science'"
      ]
     },
     "execution_count": 182,
     "metadata": {},
     "output_type": "execute_result"
    }
   ],
   "source": [
    "#21  Python 4 DataScience remove the left and right trailing spaces in the given string.\n",
    "s=\" Python 4 Data Science \"\n",
    "s.strip()"
   ]
  },
  {
   "cell_type": "code",
   "execution_count": 185,
   "metadata": {},
   "outputs": [
    {
     "name": "stdout",
     "output_type": "stream",
     "text": [
      "Django#, Flask#, Bottle#, Pyramid#, Falcon\n"
     ]
    }
   ],
   "source": [
    "#22  The following list contains the names of some of python libraries: ['Django', 'Flask', 'Bottle', 'Pyramid', 'Falcon']. \n",
    "#    Join the list with a hash # with space string.\n",
    "a=['Django', 'Flask', 'Bottle', 'Pyramid', 'Falcon']\n",
    "b= '#, '.join(a)\n",
    "print(b) "
   ]
  },
  {
   "cell_type": "code",
   "execution_count": 186,
   "metadata": {},
   "outputs": [
    {
     "name": "stdout",
     "output_type": "stream",
     "text": [
      "False\n",
      "True\n"
     ]
    }
   ],
   "source": [
    "#23  Which one of the following variables return True when we use the method isidentifier()\n",
    "#    2021PythonDataypes\n",
    "#    Python_Dataypes_2021\n",
    "a=\"2021PythonDataypes\"\n",
    "b=\"Python_Dataypes_2021\"\n",
    "print(a.isidentifier())\n",
    "print(b.isidentifier())"
   ]
  },
  {
   "cell_type": "code",
   "execution_count": 195,
   "metadata": {},
   "outputs": [
    {
     "name": "stdout",
     "output_type": "stream",
     "text": [
      "8+6=14\n",
      "8-6=2\n",
      "8*6=48\n",
      "8/6=1.33\n",
      "8%6=2\n",
      "8//6=1\n",
      "8**6=262144\n"
     ]
    }
   ],
   "source": [
    "#24  Make the following using string formatting methods:\n",
    "#8 + 6 = 14\n",
    "#8 - 6 = 2\n",
    "#8 * 6 = 48\n",
    "#8 / 6 = 1.33\n",
    "#8 % 6 = 2\n",
    "#8 // 6 = 1\n",
    "#8 ** 6 = 262144\n",
    "print(\"8+6={:d}\".format(8+6))\n",
    "print(\"8-6={:d}\".format(8-6))\n",
    "print(\"8*6={:d}\".format(8*6))\n",
    "print(\"8/6={:.2f}\".format(8/6))\n",
    "print(\"8%6={:d}\".format(8%6))\n",
    "print(\"8//6={:d}\".format(8//6))\n",
    "print(\"8**6={:d}\".format(8**6))"
   ]
  },
  {
   "cell_type": "code",
   "execution_count": 202,
   "metadata": {},
   "outputs": [
    {
     "name": "stdout",
     "output_type": "stream",
     "text": [
      "Name    Age  Country  City\n",
      "Milaan  96   USA      Starkville\n"
     ]
    }
   ],
   "source": [
    "#25  Use a new line and tab escape sequence to print the following lines.\n",
    "#    Name      Age     Country   City\n",
    "#    Milaan    96      USA       Starkville\n",
    "print(\"Name    Age  Country  City\\nMilaan  96   USA      Starkville\")"
   ]
  },
  {
   "cell_type": "markdown",
   "metadata": {},
   "source": [
    "# Part C ➞ List <span class='label label-default'>Level 1 & 2</span>\n",
    "\n",
    ">**Note:** Please create new cell for each question"
   ]
  },
  {
   "cell_type": "markdown",
   "metadata": {},
   "source": [
    "### Part C ➞ <span class='label label-default'>Level 1</span>\n",
    ">**Note:** Please create new cell for each question\n",
    "\n",
    "1. Declare a list with more than 5 items with different data types\n",
    "2. Find the length of your list\n",
    "3. Get the first item, the middle item and the last item of the list\n",
    "4. Declare a list **`called my_info`**, put your (name, age, height, marital status, country)\n",
    "5. Declare a list variable named **`mix_fruits`** and assign initial values Guava, Mango, Apple, Pear, Fig, Orange and Banana and print the list.\n",
    "6. Print the list using **[print()](https://github.com/milaan9/04_Python_Functions/blob/main/002_Python_Functions_Built_in/051_Python_print%28%29.ipynb)**\n",
    "7. Print the number of **`mix_fruits`** in the list\n",
    "8. Print the first, middle and last fruit\n",
    "9. Print the list after modifying one of the fruit\n",
    "10. Add an fruit to variable **`mix_fruits`**\n",
    "11. Insert an fruit in the middle of the **`mix_fruits`** list\n",
    "12. Change one of the fruit names to uppercase\n",
    "13. Join the elements in **`mix_fruits`** with a string **`-#-`**\n",
    "14. Check if a certain fruit exists in the **`mix_fruits`** list.\n",
    "15. Sort the list using **[sort()](https://github.com/milaan9/02_Python_Datatypes/blob/main/003_Python_List_Methods/009_Python_List_sort%28%29.ipynb)** method\n",
    "16. Reverse the list in descending order using **[reverse()](https://github.com/milaan9/02_Python_Datatypes/blob/main/003_Python_List_Methods/008_Python_List_reverse%28%29.ipynb)** method\n",
    "17. Slice out the first 3 fruits from the list\n",
    "18. Slice out the last 3 fruits from the list\n",
    "19. Slice out the middle fruit or fruits from the list\n",
    "20. Remove the first fruit from the list\n",
    "21. Remove the middle fruit or companies from the list\n",
    "22. Remove the last fruit from the list\n",
    "23. Remove all fruits from the list\n",
    "24. Delete the fruits list\n",
    "25. Join the following lists:\n",
    "\n",
    "    - ```py\n",
    "    front_end = ['HTML', 'CSS', 'JS', 'React', 'Redux']\n",
    "    back_end = ['Node','Express', 'MongoDB']\n",
    "    ```\n",
    "\n",
    "26. After joining the lists in question 25. Copy the joined list and assign it to a variable full_stack. Then insert **`'Python'`** and **`'SQL'`** after **`'Redux'`**."
   ]
  },
  {
   "cell_type": "code",
   "execution_count": 164,
   "metadata": {},
   "outputs": [
    {
     "name": "stdout",
     "output_type": "stream",
     "text": [
      "[1, 'Apple', 3.6, (7+2j), {9, 7}]\n"
     ]
    }
   ],
   "source": [
    "# Solution: \n",
    "#1  Declare a list with more than 5 items with different data types\n",
    "list1=[1,'Apple',3.6,7+2j,{7,9}]\n",
    "print(list1)"
   ]
  },
  {
   "cell_type": "code",
   "execution_count": 165,
   "metadata": {},
   "outputs": [
    {
     "name": "stdout",
     "output_type": "stream",
     "text": [
      "5\n"
     ]
    }
   ],
   "source": [
    "#2  Find the length of your list\n",
    "print(len(list1))"
   ]
  },
  {
   "cell_type": "code",
   "execution_count": 166,
   "metadata": {},
   "outputs": [
    {
     "name": "stdout",
     "output_type": "stream",
     "text": [
      "[1]\n",
      "[3.6]\n",
      "{9, 7}\n"
     ]
    }
   ],
   "source": [
    "#3  Get the first item, the middle item and the last item of the list\n",
    "print(list1[0:1])\n",
    "print(list1[2:3])\n",
    "print(list1[-1])"
   ]
  },
  {
   "cell_type": "code",
   "execution_count": 170,
   "metadata": {},
   "outputs": [
    {
     "name": "stdout",
     "output_type": "stream",
     "text": [
      "['natalie', 22, 170, '未婚', 'China']\n"
     ]
    }
   ],
   "source": [
    "#4  Declare a list called my_info, put your (name, age, height, marital status, country)\n",
    "my_info=['natalie',22,170,\"未婚\",'China']\n",
    "print(my_info)"
   ]
  },
  {
   "cell_type": "code",
   "execution_count": 29,
   "metadata": {},
   "outputs": [
    {
     "name": "stdout",
     "output_type": "stream",
     "text": [
      "mix_fruits= {'Fig', 'Apple', 'Orange', 'Guava', 'Mango', 'Banana', 'Pear'} <class 'set'>\n"
     ]
    }
   ],
   "source": [
    "#5  Declare a list variable named mix_fruits and assign initial values Guava, Mango, Apple, Pear, Fig, Orange and Banana and print the list.\n",
    "mix_fruits={'Guava','Mango','Apple','Pear','Fig','Orange','Banana'}\n",
    "print('mix_fruits=',mix_fruits,type(mix_fruits))"
   ]
  },
  {
   "cell_type": "code",
   "execution_count": 30,
   "metadata": {},
   "outputs": [
    {
     "name": "stdout",
     "output_type": "stream",
     "text": [
      "{'Fig', 'Apple', 'Orange', 'Guava', 'Mango', 'Banana', 'Pear'}\n"
     ]
    }
   ],
   "source": [
    "#6  Print the list using print()\n",
    "print(mix_fruits)"
   ]
  },
  {
   "cell_type": "code",
   "execution_count": 31,
   "metadata": {},
   "outputs": [
    {
     "name": "stdout",
     "output_type": "stream",
     "text": [
      "7\n"
     ]
    }
   ],
   "source": [
    "#7  Print the number of mix_fruits in the list\n",
    "print(len(mix_fruits))"
   ]
  },
  {
   "cell_type": "code",
   "execution_count": 56,
   "metadata": {},
   "outputs": [
    {
     "name": "stdout",
     "output_type": "stream",
     "text": [
      "['Fig']\n",
      "['Guava']\n",
      "Pear\n"
     ]
    }
   ],
   "source": [
    "#8  Print the first, middle and last fruit\n",
    "fruits_list=list(mix_fruits)\n",
    "print(fruits_list[0:1])\n",
    "print(fruits_list[3:4])\n",
    "print(fruits_list[-1])"
   ]
  },
  {
   "cell_type": "code",
   "execution_count": 172,
   "metadata": {},
   "outputs": [
    {
     "name": "stdout",
     "output_type": "stream",
     "text": [
      "['Fig', 'Apple', 'Orange', 'Strawberry', 'Mango', 'Banana', 'Pear']\n"
     ]
    }
   ],
   "source": [
    "#9  Print the list after modifying one of the fruit\n",
    "fruits_list=['Fig', 'Apple', 'Orange', 'Guava', 'Mango', 'Banana', 'Pear']\n",
    "fruits_list[3]='Strawberry'\n",
    "print(fruits_list)"
   ]
  },
  {
   "cell_type": "code",
   "execution_count": 173,
   "metadata": {},
   "outputs": [
    {
     "name": "stdout",
     "output_type": "stream",
     "text": [
      "{'Fig', 'Apple', 'Orange', 'Guava', 'Mango', 'Banana', 'Pear', 'Peach'}\n"
     ]
    }
   ],
   "source": [
    "#10  Add an fruit to variable mix_fruits\n",
    "mix_fruits.add('Peach')\n",
    "print(mix_fruits)"
   ]
  },
  {
   "cell_type": "code",
   "execution_count": 64,
   "metadata": {},
   "outputs": [
    {
     "name": "stdout",
     "output_type": "stream",
     "text": [
      "['Fig', 'Apple', 'Orange', 'Guava', 'Cherry', 'Mango', 'Banana', 'Pear', 'Peach', 'Kiwi']\n"
     ]
    }
   ],
   "source": [
    "#11  Insert an fruit in the middle of the mix_fruits list\n",
    "fruits_list=['Fig', 'Apple', 'Orange', 'Guava', 'Mango', 'Banana', 'Pear', 'Peach', 'Kiwi']\n",
    "fruits_list.insert(4,'Cherry')\n",
    "print(fruits_list)"
   ]
  },
  {
   "cell_type": "code",
   "execution_count": 78,
   "metadata": {},
   "outputs": [
    {
     "name": "stdout",
     "output_type": "stream",
     "text": [
      "['FIG', 'APPLE', 'ORANGE', 'GUAVA', 'CHERRT', 'MANGO', 'BANANA', 'PEAR', 'PEACH', 'KIWI']\n"
     ]
    }
   ],
   "source": [
    "#12  Change one of the fruit names to uppercase\n",
    "fruits_list1= [element.upper() for element in fruits_list] \n",
    "print(fruits_list1)"
   ]
  },
  {
   "cell_type": "code",
   "execution_count": 80,
   "metadata": {},
   "outputs": [
    {
     "name": "stdout",
     "output_type": "stream",
     "text": [
      "FigAppleOrangeGuavaCherryMangoBananaPearPeachKiwi\n"
     ]
    }
   ],
   "source": [
    "#13  Join the elements in mix_fruits with a string \n",
    "fruits_list=['Fig', 'Apple', 'Orange', 'Guava', 'Cherry', 'Mango', 'Banana', 'Pear', 'Peach', 'Kiwi']\n",
    "fruits_list2 = ''.join(fruits_list)\n",
    "print(fruits_list2)"
   ]
  },
  {
   "cell_type": "code",
   "execution_count": 83,
   "metadata": {},
   "outputs": [
    {
     "name": "stdout",
     "output_type": "stream",
     "text": [
      "True\n"
     ]
    }
   ],
   "source": [
    "#14  Check if a certain fruit exists in the mix_fruits list.\n",
    "print('Apple' in fruits_list)"
   ]
  },
  {
   "cell_type": "code",
   "execution_count": 84,
   "metadata": {},
   "outputs": [
    {
     "name": "stdout",
     "output_type": "stream",
     "text": [
      "['Apple', 'Banana', 'Cherry', 'Fig', 'Guava', 'Kiwi', 'Mango', 'Orange', 'Peach', 'Pear']\n"
     ]
    }
   ],
   "source": [
    "#15  Sort the list using sort() method\n",
    "fruits_list.sort()\n",
    "print(fruits_list)"
   ]
  },
  {
   "cell_type": "code",
   "execution_count": 85,
   "metadata": {},
   "outputs": [
    {
     "name": "stdout",
     "output_type": "stream",
     "text": [
      "['Pear', 'Peach', 'Orange', 'Mango', 'Kiwi', 'Guava', 'Fig', 'Cherry', 'Banana', 'Apple']\n"
     ]
    }
   ],
   "source": [
    "#16  Reverse the list in descending order using reverse() method\n",
    "fruits_list.reverse()\n",
    "print(fruits_list)"
   ]
  },
  {
   "cell_type": "code",
   "execution_count": 94,
   "metadata": {},
   "outputs": [
    {
     "name": "stdout",
     "output_type": "stream",
     "text": [
      "['Guava', 'Cherry', 'Mango', 'Banana', 'Pear', 'Peach', 'Kiwi']\n"
     ]
    }
   ],
   "source": [
    "#17  Slice out the first 3 fruits from the list\n",
    "fruits_list=['Fig', 'Apple', 'Orange', 'Guava', 'Cherry', 'Mango', 'Banana', 'Pear', 'Peach', 'Kiwi']\n",
    "del fruits_list[0:3]\n",
    "print(fruits_list)"
   ]
  },
  {
   "cell_type": "code",
   "execution_count": 101,
   "metadata": {},
   "outputs": [
    {
     "name": "stdout",
     "output_type": "stream",
     "text": [
      "['Fig', 'Apple', 'Orange', 'Guava', 'Cherry', 'Mango', 'Banana']\n"
     ]
    }
   ],
   "source": [
    "#18  Slice out the last 3 fruits from the list\n",
    "fruits_list=['Fig', 'Apple', 'Orange', 'Guava', 'Cherry', 'Mango', 'Banana', 'Pear', 'Peach', 'Kiwi']\n",
    "del fruits_list[7:10]\n",
    "print(fruits_list)"
   ]
  },
  {
   "cell_type": "code",
   "execution_count": 102,
   "metadata": {},
   "outputs": [
    {
     "name": "stdout",
     "output_type": "stream",
     "text": [
      "['Fig', 'Apple', 'Orange', 'Guava', 'Banana', 'Pear', 'Peach', 'Kiwi']\n"
     ]
    }
   ],
   "source": [
    "#19  Slice out the middle fruit or fruits from the list\n",
    "fruits_list=['Fig', 'Apple', 'Orange', 'Guava', 'Cherry', 'Mango', 'Banana', 'Pear', 'Peach', 'Kiwi']\n",
    "del fruits_list[4:6]\n",
    "print(fruits_list)"
   ]
  },
  {
   "cell_type": "code",
   "execution_count": 104,
   "metadata": {},
   "outputs": [
    {
     "name": "stdout",
     "output_type": "stream",
     "text": [
      "['Apple', 'Orange', 'Guava', 'Cherry', 'Mango', 'Banana', 'Pear', 'Peach', 'Kiwi']\n"
     ]
    }
   ],
   "source": [
    "#20  Remove the first fruit from the list\n",
    "fruits_list=['Fig', 'Apple', 'Orange', 'Guava', 'Cherry', 'Mango', 'Banana', 'Pear', 'Peach', 'Kiwi']\n",
    "fruits_list.remove('Fig')\n",
    "print(fruits_list)"
   ]
  },
  {
   "cell_type": "code",
   "execution_count": 108,
   "metadata": {},
   "outputs": [
    {
     "name": "stdout",
     "output_type": "stream",
     "text": [
      "['Fig', 'Apple', 'Orange', 'Guava', 'Mango', 'Banana', 'Pear', 'Peach', 'Kiwi']\n"
     ]
    }
   ],
   "source": [
    "#21  Remove the middle fruit or companies from the list\n",
    "fruits_list=['Fig', 'Apple', 'Orange', 'Guava', 'Cherry', 'Mango', 'Banana', 'Pear', 'Peach', 'Kiwi']\n",
    "fruits_list.remove('Cherry')\n",
    "print(fruits_list)"
   ]
  },
  {
   "cell_type": "code",
   "execution_count": 109,
   "metadata": {},
   "outputs": [
    {
     "name": "stdout",
     "output_type": "stream",
     "text": [
      "['Fig', 'Apple', 'Orange', 'Guava', 'Cherry', 'Mango', 'Banana', 'Pear', 'Peach']\n"
     ]
    }
   ],
   "source": [
    "#22  Remove the last fruit from the list\n",
    "fruits_list=['Fig', 'Apple', 'Orange', 'Guava', 'Cherry', 'Mango', 'Banana', 'Pear', 'Peach', 'Kiwi']\n",
    "fruits_list.remove('Kiwi')\n",
    "print(fruits_list)"
   ]
  },
  {
   "cell_type": "code",
   "execution_count": 111,
   "metadata": {},
   "outputs": [
    {
     "name": "stdout",
     "output_type": "stream",
     "text": [
      "[]\n"
     ]
    }
   ],
   "source": [
    "#23  Remove all fruits from the list\n",
    "fruits_list=['Fig', 'Apple', 'Orange', 'Guava', 'Cherry', 'Mango', 'Banana', 'Pear', 'Peach', 'Kiwi']\n",
    "fruits_list.clear()\n",
    "print(fruits_list)"
   ]
  },
  {
   "cell_type": "code",
   "execution_count": 114,
   "metadata": {},
   "outputs": [],
   "source": [
    "#24  Delete the fruits list\n",
    "fruits_list=['Fig', 'Apple', 'Orange', 'Guava', 'Cherry', 'Mango', 'Banana', 'Pear', 'Peach', 'Kiwi']\n",
    "del fruits_list"
   ]
  },
  {
   "cell_type": "code",
   "execution_count": 120,
   "metadata": {},
   "outputs": [
    {
     "name": "stdout",
     "output_type": "stream",
     "text": [
      "['HTML', 'CSS', 'JS', 'React', 'Redux', 'Node', 'Express', 'MongoDB']\n"
     ]
    }
   ],
   "source": [
    "#25  Join the following lists:\n",
    "# front_end = ['HTML', 'CSS', 'JS', 'React', 'Redux']\n",
    "# back_end = ['Node','Express', 'MongoDB']\n",
    "\n",
    "A=front_end = ['HTML', 'CSS', 'JS', 'React', 'Redux']\n",
    "B=back_end = ['Node','Express', 'MongoDB']\n",
    "A=A+B\n",
    "print(A)"
   ]
  },
  {
   "cell_type": "code",
   "execution_count": 125,
   "metadata": {},
   "outputs": [
    {
     "name": "stdout",
     "output_type": "stream",
     "text": [
      "['HTML', 'CSS', 'JS', 'React', 'Redux', ['Python', 'SQL'], 'Node', 'Express', 'MongoDB']\n"
     ]
    }
   ],
   "source": [
    "#26  After joining the lists in question 25. Copy the joined list and assign it to a variable full_stack. \n",
    "#    Then insert 'Python' and 'SQL' after 'Redux'.\n",
    "\n",
    "A=['HTML', 'CSS', 'JS', 'React', 'Redux', 'Node', 'Express', 'MongoDB']\n",
    "full_stack=A\n",
    "A.insert(5,['Python','SQL'])\n",
    "print(A)"
   ]
  },
  {
   "cell_type": "markdown",
   "metadata": {},
   "source": [
    "### Part C ➞ <span class='label label-default'>Level 2</span>\n",
    ">**Note:** Please create new cell for each question\n",
    "\n",
    "\n",
    "1. The following is a list of 10 students ages:\n",
    "\n",
    "    - ```py\n",
    "ages = [19, 23, 19, 25, 21, 20, 25, 26, 25, 24]\n",
    "    ```\n",
    "\n",
    "        - Sort the list and find the min and max age\n",
    "        - Add the min age and the max age again to the list\n",
    "        - Find the median age (one middle item or two middle items divided by two)\n",
    "        - Find the average age (sum of all items divided by their number )\n",
    "        - Find the range of the ages (max - min)\n",
    "        - Compare the value of (min - average) and (max - average), use **[abs()](https://github.com/milaan9/04_Python_Functions/blob/main/002_Python_Functions_Built_in/001_Python_abs%28%29.ipynb)** method\n",
    "\n",
    "2. **`['India', 'Russia', 'China', 'Finland', 'Sweden', 'Norway', 'Denmark']`**. Unpack the first three countries and the rest as scandic countries."
   ]
  },
  {
   "cell_type": "code",
   "execution_count": 131,
   "metadata": {},
   "outputs": [
    {
     "name": "stdout",
     "output_type": "stream",
     "text": [
      "[19, 19, 20, 21, 23, 24, 25, 25, 25, 26]\n"
     ]
    },
    {
     "data": {
      "text/plain": [
       "26"
      ]
     },
     "execution_count": 131,
     "metadata": {},
     "output_type": "execute_result"
    }
   ],
   "source": [
    "# Solution: \n",
    "#1  Sort the list and find the min and max age\n",
    "ages = [19, 23, 19, 25, 21, 20, 25, 26, 25, 24]\n",
    "ages.sort()\n",
    "print(ages)\n",
    "min(ages)\n",
    "max(ages)"
   ]
  },
  {
   "cell_type": "code",
   "execution_count": 105,
   "metadata": {},
   "outputs": [
    {
     "name": "stdout",
     "output_type": "stream",
     "text": [
      "[19, 23, 19, 25, 21, 20, 25, 26, 25, 24, 19]\n",
      "[19, 23, 19, 25, 21, 20, 25, 26, 25, 24, 19, 26]\n"
     ]
    }
   ],
   "source": [
    "#1  Add the min age and the max age again to the list\n",
    "ages = [19, 23, 19, 25, 21, 20, 25, 26, 25, 24]\n",
    "ages.append(min(ages))\n",
    "print(ages)\n",
    "ages.append(max(ages))\n",
    "print(ages)"
   ]
  },
  {
   "cell_type": "code",
   "execution_count": 142,
   "metadata": {},
   "outputs": [
    {
     "name": "stdout",
     "output_type": "stream",
     "text": [
      "23.5\n"
     ]
    }
   ],
   "source": [
    "#1  Find the median age (one middle item or two middle items divided by two)\n",
    "import numpy as np\n",
    "ages=[19, 19, 20, 21, 23, 24, 25, 25, 25, 26]\n",
    "median_ages = np.median(ages)\n",
    "print(median_ages)"
   ]
  },
  {
   "cell_type": "code",
   "execution_count": 143,
   "metadata": {},
   "outputs": [
    {
     "name": "stdout",
     "output_type": "stream",
     "text": [
      "22.7\n"
     ]
    }
   ],
   "source": [
    "#1  Find the average age (sum of all items divided by their number )\n",
    "ages=[19, 19, 20, 21, 23, 24, 25, 25, 25, 26]\n",
    "average_ages = np.mean(ages)\n",
    "print(average_ages)"
   ]
  },
  {
   "cell_type": "code",
   "execution_count": 154,
   "metadata": {},
   "outputs": [
    {
     "name": "stdout",
     "output_type": "stream",
     "text": [
      "19 26\n"
     ]
    }
   ],
   "source": [
    "#1  Find the range of the ages (max - min)\n",
    "ages=[19, 19, 20, 21, 23, 24, 25, 25, 25, 26]\n",
    "print(min(ages),max(ages))"
   ]
  },
  {
   "cell_type": "code",
   "execution_count": 161,
   "metadata": {},
   "outputs": [
    {
     "name": "stdout",
     "output_type": "stream",
     "text": [
      "3.6999999999999993\n",
      "3.3000000000000007\n",
      "min-average大于max-average\n"
     ]
    }
   ],
   "source": [
    "#1  Compare the value of (min - average) and (max - average), use abs() method\n",
    "ages=[19, 19, 20, 21, 23, 24, 25, 25, 25, 26]\n",
    "a=min(ages)-average_ages\n",
    "b=max(ages)-average_ages\n",
    "print(abs(a))\n",
    "print(abs(b))\n",
    "if(abs(a)==abs(b)):\n",
    "    print(\"相等\")\n",
    "elif(abs(a)>abs(b)):\n",
    "    print(\"min-average大于max-average\")\n",
    "else:\n",
    "    print(\"min-average小于max-average\")"
   ]
  },
  {
   "cell_type": "code",
   "execution_count": 205,
   "metadata": {},
   "outputs": [
    {
     "name": "stdout",
     "output_type": "stream",
     "text": [
      "['India', 'Russia', 'China']\n"
     ]
    }
   ],
   "source": [
    "#2  ['India', 'Russia', 'China', 'Finland', 'Sweden', 'Norway', 'Denmark']. \n",
    "#   Unpack the first three countries and the rest as scandic countries.\n",
    "countries=['India', 'Russia', 'China', 'Finland', 'Sweden', 'Norway', 'Denmark']\n",
    "scandic_countries=countries[0:3]\n",
    "print(scandic_countries)"
   ]
  },
  {
   "cell_type": "markdown",
   "metadata": {},
   "source": [
    "# Part D ➞ Tuple <span class='label label-default'>Level 1 & 2</span>\n",
    "\n",
    ">**Note:** Please create new cell for each question"
   ]
  },
  {
   "cell_type": "markdown",
   "metadata": {},
   "source": [
    "### Part D ➞ <span class='label label-default'>Level 1</span>\n",
    ">**Note:** Please create new cell for each question\n",
    "\n",
    "1. Create a tuple containing names of **`fruits`** and **`vegetables`**\n",
    "2. Join **`fruits`** and **`vegetables`** tuples and assign it to **`fruits_vegetables`**\n",
    "3. How many **`fruits_vegetables`** do you have?\n",
    "4. Modify the **`fruits_vegetables`** tuple and add the name of your favorite mushroom and beverage and assign it to **`food_tuple`**"
   ]
  },
  {
   "cell_type": "code",
   "execution_count": 1,
   "metadata": {},
   "outputs": [
    {
     "name": "stdout",
     "output_type": "stream",
     "text": [
      "(['apple', 'cherry', 'peach', 'grape'], ['carrot', 'tomato', 'eggplant'])\n"
     ]
    }
   ],
   "source": [
    "# Solution: \n",
    "#1  Create a tuple containing names of fruits and vegetables\n",
    "fruits=['apple','cherry','peach','grape']\n",
    "vegetables=['carrot','tomato','eggplant']\n",
    "t=fruits,vegetables\n",
    "print(t)"
   ]
  },
  {
   "cell_type": "code",
   "execution_count": 2,
   "metadata": {},
   "outputs": [
    {
     "name": "stdout",
     "output_type": "stream",
     "text": [
      "(['apple', 'cherry', 'peach', 'grape'], ['carrot', 'tomato', 'eggplant'])\n"
     ]
    }
   ],
   "source": [
    "#2  Join fruits and vegetables tuples and assign it to fruits_vegetables\n",
    "fruits_vegetables=t\n",
    "print(fruits_vegetables)"
   ]
  },
  {
   "cell_type": "code",
   "execution_count": 4,
   "metadata": {},
   "outputs": [
    {
     "name": "stdout",
     "output_type": "stream",
     "text": [
      "7\n"
     ]
    }
   ],
   "source": [
    "#3  How many fruits_vegetables do you have?\n",
    "print(len(fruits+vegetables))"
   ]
  },
  {
   "cell_type": "code",
   "execution_count": 203,
   "metadata": {},
   "outputs": [
    {
     "name": "stdout",
     "output_type": "stream",
     "text": [
      "(['apple', 'cherry', 'strawberry', 'grape'], ['carrot', 'pea', 'eggplant'])\n",
      "('button mushroom', 'milk', 'white gourd drink', (['apple', 'cherry', 'strawberry', 'grape'], ['carrot', 'pea', 'eggplant']))\n"
     ]
    }
   ],
   "source": [
    "#4  Modify the fruits_vegetables tuple and add the name of your favorite mushroom and beverage and assign it to food_tuple\n",
    "fruits_vegetables[0][2]='strawberry'\n",
    "fruits_vegetables[1][1]='pea'\n",
    "food_tuple='button mushroom','milk','white gourd drink',fruits_vegetables\n",
    "print(fruits_vegetables)\n",
    "print(food_tuple)"
   ]
  },
  {
   "cell_type": "markdown",
   "metadata": {},
   "source": [
    "### Part D ➞ <span class='label label-default'>Level 2</span>\n",
    ">**Note:** Please create new cell for each question\n",
    "\n",
    "1. Unpack **`fruits_vegetables`** and mushroom and beverage from **`food_tuple`**\n",
    "2. Change the about **`food_tuple`** tuple to a **`food_list`** list\n",
    "3. Slice out the middle item or items from the **`food_tuple`** tuple or **`food_list`** list.\n",
    "4. Slice out the first three items and the last three items from **`food_list`** list\n",
    "5. Delete the **`food_tuple`** tuple completely\n",
    "6. Check if an item exists in tuple:\n",
    "    - Check if **`'USA'`** is a asian country\n",
    "    - Check if **`'India'`** is a asian country\n",
    "    ```python\n",
    "asian_countries = ('India','China','Singapore','Thailand','Indonesia')\n",
    "    ```"
   ]
  },
  {
   "cell_type": "code",
   "execution_count": 9,
   "metadata": {},
   "outputs": [
    {
     "name": "stdout",
     "output_type": "stream",
     "text": [
      "mushroom: button mushroom\n",
      "beverage: ('milk', 'white gourd drink')\n",
      "fruits_vegetables: (['apple', 'cherry', 'strawberry', 'grape'], ['carrot', 'pea', 'eggplant'])\n"
     ]
    }
   ],
   "source": [
    "# Solution: \n",
    "#1  Unpack fruits_vegetables and mushroom and beverage from food_tuple\n",
    "food_tuple=('button mushroom', 'milk', 'white gourd drink', (['apple', 'cherry', 'strawberry', 'grape'], ['carrot', 'pea', 'eggplant']))\n",
    "mushroom=food_tuple[0]\n",
    "beverage=food_tuple[1],food_tuple[2]\n",
    "print('mushroom:',mushroom)\n",
    "print('beverage:',beverage)\n",
    "print('fruits_vegetables:',food_tuple[-1])"
   ]
  },
  {
   "cell_type": "code",
   "execution_count": 12,
   "metadata": {},
   "outputs": [
    {
     "name": "stdout",
     "output_type": "stream",
     "text": [
      "['button mushroom', 'milk', 'white gourd drink', (['apple', 'cherry', 'strawberry', 'grape'], ['carrot', 'pea', 'eggplant'])]\n"
     ]
    }
   ],
   "source": [
    "#2  Change the about food_tuple tuple to a food_list list\n",
    "food_list=list(food_tuple)\n",
    "print(food_list)"
   ]
  },
  {
   "cell_type": "code",
   "execution_count": 13,
   "metadata": {},
   "outputs": [
    {
     "name": "stdout",
     "output_type": "stream",
     "text": [
      "['button mushroom', 'milk', (['apple', 'cherry', 'strawberry', 'grape'], ['carrot', 'pea', 'eggplant'])]\n"
     ]
    }
   ],
   "source": [
    "#3  Slice out the middle item or items from the food_tuple tuple or food_list list.\n",
    "del food_list[2]\n",
    "print(food_list)"
   ]
  },
  {
   "cell_type": "code",
   "execution_count": 15,
   "metadata": {},
   "outputs": [
    {
     "name": "stdout",
     "output_type": "stream",
     "text": [
      "['button mushroom', 'milk', 'white gourd drink']\n",
      "['milk', 'white gourd drink', (['apple', 'cherry', 'strawberry', 'grape'], ['carrot', 'pea', 'eggplant'])]\n"
     ]
    }
   ],
   "source": [
    "#4  Slice out the first three items and the last three items from food_list list\n",
    "food_list=['button mushroom', 'milk', 'white gourd drink', (['apple', 'cherry', 'strawberry', 'grape'], ['carrot', 'pea', 'eggplant'])]\n",
    "print(food_list[0:3])\n",
    "print(food_list[-3:])"
   ]
  },
  {
   "cell_type": "code",
   "execution_count": 24,
   "metadata": {},
   "outputs": [],
   "source": [
    "#5  Delete the food_tuple tuple completely\n",
    "del food_tuple"
   ]
  },
  {
   "cell_type": "code",
   "execution_count": 22,
   "metadata": {},
   "outputs": [
    {
     "name": "stdout",
     "output_type": "stream",
     "text": [
      "False\n",
      "True\n"
     ]
    }
   ],
   "source": [
    "#6  Check if an item exists in tuple:\n",
    "#   Check if 'USA' is a asian country\n",
    "#   Check if 'India' is a asian country\n",
    "asian_countries=('India','China','Singapore','Thailand','Indonesia')\n",
    "print('USA'in asian_countries)\n",
    "print('India'in asian_countries)"
   ]
  },
  {
   "cell_type": "markdown",
   "metadata": {},
   "source": [
    "# Part E ➞ Sets <span class='label label-default'>Level 1, 2 and 3</span>\n",
    "\n",
    ">**Note:** Please create new cell for each question"
   ]
  },
  {
   "cell_type": "markdown",
   "metadata": {},
   "source": [
    "```py\n",
    "mix_fruits = {'Guava', 'Pear', 'Mango', 'Apple', 'Fig', 'Orange', 'Banana'}\n",
    "A = {19, 22, 24, 20, 25, 26}\n",
    "B = {19, 22, 20, 25, 26, 24, 28, 27}\n",
    "num = [22, 19, 24, 25, 26, 24, 25, 24]\n",
    "```\n",
    "\n",
    "### Part E ➞ <span class='label label-default'>Level 1</span>\n",
    ">**Note:** Please create new cell for each question\n",
    "\n",
    "1. Find the length of the set **`mix_fruits`**\n",
    "2. Add **`'Kiwi'`** to **`mix_fruits`**\n",
    "3. Insert multiple fruits at once to the set **`mix_fruits`**\n",
    "4. Remove one of the fruit from the set **`mix_fruits`**\n",
    "5. What is the difference between **remove** and **discard**"
   ]
  },
  {
   "cell_type": "code",
   "execution_count": 25,
   "metadata": {},
   "outputs": [
    {
     "name": "stdout",
     "output_type": "stream",
     "text": [
      "7\n"
     ]
    }
   ],
   "source": [
    "# Solution: \n",
    "#1  Find the length of the set mix_fruits\n",
    "mix_fruits = {'Guava', 'Pear', 'Mango', 'Apple', 'Fig', 'Orange', 'Banana'}\n",
    "print(len(mix_fruits))"
   ]
  },
  {
   "cell_type": "code",
   "execution_count": 26,
   "metadata": {},
   "outputs": [
    {
     "name": "stdout",
     "output_type": "stream",
     "text": [
      "{'Pear', 'Banana', 'Apple', 'Fig', 'Kiwi', 'Guava', 'Mango', 'Orange'}\n"
     ]
    }
   ],
   "source": [
    "#2  Add 'Kiwi' to mix_fruits\n",
    "mix_fruits.add('Kiwi')\n",
    "print(mix_fruits)"
   ]
  },
  {
   "cell_type": "code",
   "execution_count": 27,
   "metadata": {},
   "outputs": [
    {
     "name": "stdout",
     "output_type": "stream",
     "text": [
      "{'Pear', 'Peach', 'Banana', 'Strawberry', 'Apple', 'Fig', 'Kiwi', 'Guava', 'Mango', 'Cherry', 'Orange'}\n"
     ]
    }
   ],
   "source": [
    "#3  Insert multiple fruits at once to the set mix_fruits\n",
    "mix_fruits.update(['Strawberry','Cherry','Peach'])\n",
    "print(mix_fruits)"
   ]
  },
  {
   "cell_type": "code",
   "execution_count": 28,
   "metadata": {},
   "outputs": [
    {
     "name": "stdout",
     "output_type": "stream",
     "text": [
      "{'Pear', 'Peach', 'Strawberry', 'Apple', 'Fig', 'Kiwi', 'Guava', 'Mango', 'Cherry', 'Orange'}\n"
     ]
    }
   ],
   "source": [
    "#4  Remove one of the fruit from the set mix_fruits\n",
    "mix_fruits.remove('Banana')\n",
    "print(mix_fruits)"
   ]
  },
  {
   "cell_type": "code",
   "execution_count": 29,
   "metadata": {},
   "outputs": [
    {
     "name": "stdout",
     "output_type": "stream",
     "text": [
      "{'Pear', 'Banana', 'Apple', 'Guava', 'Mango', 'Orange'}\n"
     ]
    }
   ],
   "source": [
    "#5  What is the difference between remove and discard\n",
    "# remove:\n",
    "mix_fruits = {'Guava', 'Pear', 'Mango', 'Apple', 'Fig', 'Orange', 'Banana'}\n",
    "mix_fruits.remove('Fig')\n",
    "print(mix_fruits)"
   ]
  },
  {
   "cell_type": "code",
   "execution_count": 30,
   "metadata": {},
   "outputs": [
    {
     "name": "stdout",
     "output_type": "stream",
     "text": [
      "{'Pear', 'Banana', 'Apple', 'Guava', 'Mango', 'Orange'}\n"
     ]
    }
   ],
   "source": [
    "#5  What is the difference between remove and discard\n",
    "# discard:\n",
    "mix_fruits = {'Guava', 'Pear', 'Mango', 'Apple', 'Fig', 'Orange', 'Banana'}\n",
    "mix_fruits.discard('Fig')\n",
    "print(mix_fruits)"
   ]
  },
  {
   "cell_type": "markdown",
   "metadata": {},
   "source": [
    "### Part E ➞ <span class='label label-default'>Level 2</span>\n",
    ">**Note:** Please create new cell for each question\n",
    "\n",
    "Use Imaginary values for Set **`A`** and **`B`**\n",
    "\n",
    "1. Join **`A`** and **`B`**\n",
    "2. Find **`A`** intersection **`B`**\n",
    "3. Is **`A`** subset of **`B`**\n",
    "4. Are **`A`** and **`B`** disjoint sets\n",
    "5. Join **`A`** with **`B`** and **`B`** with **`A`**\n",
    "6. What is the symmetric difference between A and **`B`**\n",
    "7. Delete the sets completely"
   ]
  },
  {
   "cell_type": "code",
   "execution_count": 31,
   "metadata": {},
   "outputs": [
    {
     "data": {
      "text/plain": [
       "{19, 20, 22, 24, 25, 26, 27, 28}"
      ]
     },
     "execution_count": 31,
     "metadata": {},
     "output_type": "execute_result"
    }
   ],
   "source": [
    "# Solution: \n",
    "#1  Join A and B\n",
    "A={19,22,24,20,25,26}\n",
    "B={19,22,20,25,26,24,28,27}\n",
    "A.union(B)"
   ]
  },
  {
   "cell_type": "code",
   "execution_count": 32,
   "metadata": {},
   "outputs": [
    {
     "data": {
      "text/plain": [
       "{19, 20, 22, 24, 25, 26}"
      ]
     },
     "execution_count": 32,
     "metadata": {},
     "output_type": "execute_result"
    }
   ],
   "source": [
    "#2  Find A intersection B\n",
    "A.intersection(B)"
   ]
  },
  {
   "cell_type": "code",
   "execution_count": 34,
   "metadata": {},
   "outputs": [
    {
     "data": {
      "text/plain": [
       "True"
      ]
     },
     "execution_count": 34,
     "metadata": {},
     "output_type": "execute_result"
    }
   ],
   "source": [
    "#3  Is A subset of B\n",
    "A.issubset(B)"
   ]
  },
  {
   "cell_type": "code",
   "execution_count": 35,
   "metadata": {},
   "outputs": [
    {
     "data": {
      "text/plain": [
       "False"
      ]
     },
     "execution_count": 35,
     "metadata": {},
     "output_type": "execute_result"
    }
   ],
   "source": [
    "#4  Are A and B disjoint sets\n",
    "A.isdisjoint(B)"
   ]
  },
  {
   "cell_type": "code",
   "execution_count": 36,
   "metadata": {},
   "outputs": [
    {
     "data": {
      "text/plain": [
       "{19, 20, 22, 24, 25, 26, 27, 28}"
      ]
     },
     "execution_count": 36,
     "metadata": {},
     "output_type": "execute_result"
    }
   ],
   "source": [
    "#5  Join A with B and B with A\n",
    "A.union(B)\n",
    "B.union(A)"
   ]
  },
  {
   "cell_type": "code",
   "execution_count": 37,
   "metadata": {},
   "outputs": [
    {
     "data": {
      "text/plain": [
       "{27, 28}"
      ]
     },
     "execution_count": 37,
     "metadata": {},
     "output_type": "execute_result"
    }
   ],
   "source": [
    "#6  What is the symmetric difference between A and B\n",
    "A.symmetric_difference(B)"
   ]
  },
  {
   "cell_type": "code",
   "execution_count": 43,
   "metadata": {},
   "outputs": [
    {
     "name": "stdout",
     "output_type": "stream",
     "text": [
      "set()\n",
      "set()\n"
     ]
    }
   ],
   "source": [
    "#7  Delete the sets completely\n",
    "A.clear()\n",
    "B.clear()\n",
    "print(A)\n",
    "print(B)"
   ]
  },
  {
   "cell_type": "markdown",
   "metadata": {},
   "source": [
    "### Part E ➞ <span class='label label-default'>Level 3</span>\n",
    ">**Note:** Please create new cell for each question\n",
    "\n",
    "1. Convert the **`num`** to a set and compare the length of the list and the set, which one is bigger?\n",
    "2. Explain the difference between the following data types: **string**, **list**, **tuple** and **set**\n",
    "3. **`I am a researcher cum teacher and I love to inspire and teach people.`**. How many unique words have been used in the sentence? Use the **`split`** methods and set to get the unique words."
   ]
  },
  {
   "cell_type": "code",
   "execution_count": 45,
   "metadata": {},
   "outputs": [
    {
     "name": "stdout",
     "output_type": "stream",
     "text": [
      "{19, 22, 24, 25, 26} <class 'set'>\n",
      "True\n",
      "False\n",
      "False\n"
     ]
    }
   ],
   "source": [
    "# Solution: \n",
    "#1  Convert the num to a set and compare the length of the list and the set, which one is bigger?\n",
    "num = [22, 19, 24, 25, 26, 24, 25, 24]\n",
    "num=[22,19,24,25,26,24,25,24]\n",
    "numset=set(num)\n",
    "print(numset,type(numset))\n",
    "print(len(num)>len(numset))\n",
    "print(len(num)<len(numset))\n",
    "print(len(num)==len(numset))"
   ]
  },
  {
   "cell_type": "code",
   "execution_count": null,
   "metadata": {},
   "outputs": [],
   "source": [
    "#2  Explain the difference between the following data types: string, list, tuple and set\n",
    "The list can be changed,the string,tuple and sets cannot be changed.\n",
    "The string donot use any brackets,list use [],tuple use (),sets use {}"
   ]
  },
  {
   "cell_type": "code",
   "execution_count": 46,
   "metadata": {},
   "outputs": [
    {
     "name": "stdout",
     "output_type": "stream",
     "text": [
      "{'to', 'researcher', 'people', 'cum', 'I', 'a', 'am', 'love', 'teacher', 'and', 'teach', 'inspire'}\n",
      "12\n"
     ]
    }
   ],
   "source": [
    "#3  I am a researcher cum teacher and I love to inspire and teach people..\n",
    "#   How many unique words have been used in the sentence? Use the split methods and set to get the unique words.\n",
    "sentence='I am a researcher cum teacher and I love to inspire and teach people';\n",
    "set=set(sentence.split())\n",
    "print(set)\n",
    "print(len(set))"
   ]
  },
  {
   "cell_type": "markdown",
   "metadata": {},
   "source": [
    "# Part F ➞ Dictionary <span class='label label-default'>Level 1</span>\n",
    "\n",
    ">**Note:** Please create new cell for each question"
   ]
  },
  {
   "cell_type": "markdown",
   "metadata": {},
   "source": [
    "1. Create an empty dictionary called **`bird`**\n",
    "2. Add **`name`**, **`color`**, **`breed`**, **`legs`**, **`age`** to the **`bird`** dictionary\n",
    "3. Create a **`student`** dictionary and add **`first_name`**, **`last_name`**, **`gender`**, **`age`**, **`marital_status`**, **`skills`**, **`country`**, **`city`** and **`address`** as keys for the dictionary\n",
    "3. Get the length of the **`student`** dictionary\n",
    "4. Get the value of **`skills`** and check the data type, it should be a list\n",
    "5. Modify the **`skills`** values by adding one or two skills\n",
    "6. Get the dictionary keys as a list\n",
    "7. Get the dictionary values as a list\n",
    "8. Change the dictionary to a list of tuples using **[items()](https://github.com/milaan9/02_Python_Datatypes/blob/main/005_Python_Dictionary_Methods/005_Python_Dictionary_items%28%29.ipynb)** method\n",
    "9. Delete one of the items in the dictionary\n",
    "10. Delete one of the dictionaries"
   ]
  },
  {
   "cell_type": "code",
   "execution_count": 47,
   "metadata": {},
   "outputs": [
    {
     "name": "stdout",
     "output_type": "stream",
     "text": [
      "{}\n"
     ]
    }
   ],
   "source": [
    "# Solution:\n",
    "#1  Create an empty dictionary called bird\n",
    "bird= {}\n",
    "print(bird)"
   ]
  },
  {
   "cell_type": "code",
   "execution_count": 49,
   "metadata": {},
   "outputs": [
    {
     "name": "stdout",
     "output_type": "stream",
     "text": [
      "{'name', 'age', 'breed', 'legs', 'color'}\n"
     ]
    }
   ],
   "source": [
    "#2  Add name, color, breed, legs, age to the bird dictionary\n",
    "bird={'name','color','breed','legs','age'}\n",
    "print(bird)"
   ]
  },
  {
   "cell_type": "code",
   "execution_count": 87,
   "metadata": {},
   "outputs": [
    {
     "name": "stdout",
     "output_type": "stream",
     "text": [
      "{'first_name': 'natalie', 'last_name': 'meng', 'gender': 'girl', 'age': '22', 'marital_status': 'no marry', 'skills': [''], 'country': 'China', 'city': '', 'address': ''}\n"
     ]
    }
   ],
   "source": [
    "#3  Create a student dictionary and add first_name, last_name, gender, age, marital_status, skills, country, city \n",
    "#   and address as keys for the dictionary\n",
    "student={'first_name':'natalie','last_name':'meng','gender':'girl','age':'22','marital_status':'no marry','skills':[''],'country':'China','city':'','address':''}\n",
    "print(student)"
   ]
  },
  {
   "cell_type": "code",
   "execution_count": 88,
   "metadata": {},
   "outputs": [
    {
     "data": {
      "text/plain": [
       "9"
      ]
     },
     "execution_count": 88,
     "metadata": {},
     "output_type": "execute_result"
    }
   ],
   "source": [
    "#4  Get the length of the student dictionary\n",
    "len(student)"
   ]
  },
  {
   "cell_type": "code",
   "execution_count": 89,
   "metadata": {},
   "outputs": [
    {
     "name": "stdout",
     "output_type": "stream",
     "text": [
      "[''] <class 'list'>\n"
     ]
    }
   ],
   "source": [
    "#5  Get the value of skills and check the data type, it should be a list\n",
    "student={'first_name':'','last_name':'','gender':'','age':'','marital_status':'','skills':[''],'country':'','city':'','address':''}\n",
    "print(student['skills'],type(student['skills']))"
   ]
  },
  {
   "cell_type": "code",
   "execution_count": 96,
   "metadata": {},
   "outputs": [
    {
     "name": "stdout",
     "output_type": "stream",
     "text": [
      "['Python', 'fitness']\n"
     ]
    }
   ],
   "source": [
    "#6  Modify the skills values by adding one or two skills\n",
    "student['skills']=['Python','fitness']\n",
    "print(student['skills'])"
   ]
  },
  {
   "cell_type": "code",
   "execution_count": 97,
   "metadata": {},
   "outputs": [
    {
     "data": {
      "text/plain": [
       "dict_keys(['first_name', 'last_name', 'gender', 'age', 'marital_status', 'skills', 'country', 'city', 'address'])"
      ]
     },
     "execution_count": 97,
     "metadata": {},
     "output_type": "execute_result"
    }
   ],
   "source": [
    "#7  Get the dictionary keys as a list\n",
    "student.keys()"
   ]
  },
  {
   "cell_type": "code",
   "execution_count": 98,
   "metadata": {},
   "outputs": [
    {
     "data": {
      "text/plain": [
       "dict_values(['natalie', 'meng', 'girl', '22', 'no marry', ['Python', 'fitness'], 'China', '', ''])"
      ]
     },
     "execution_count": 98,
     "metadata": {},
     "output_type": "execute_result"
    }
   ],
   "source": [
    "#8  Get the dictionary values as a list\n",
    "student.values()"
   ]
  },
  {
   "cell_type": "code",
   "execution_count": 99,
   "metadata": {},
   "outputs": [
    {
     "name": "stdout",
     "output_type": "stream",
     "text": [
      "[('first_name', 'natalie'), ('last_name', 'meng'), ('gender', 'girl'), ('age', '22'), ('marital_status', 'no marry'), ('skills', ['Python', 'fitness']), ('country', 'China'), ('city', ''), ('address', '')]\n"
     ]
    }
   ],
   "source": [
    "#9  Change the dictionary to a list of tuples using items() method\n",
    "student1= list(student.items())\n",
    "print(student1)"
   ]
  },
  {
   "cell_type": "code",
   "execution_count": 100,
   "metadata": {},
   "outputs": [
    {
     "name": "stdout",
     "output_type": "stream",
     "text": [
      "{'first_name': 'natalie', 'last_name': 'meng', 'gender': 'girl', 'age': '22', 'marital_status': 'no marry', 'skills': ['Python', 'fitness'], 'country': 'China', 'city': ''}\n"
     ]
    }
   ],
   "source": [
    "#10  Delete one of the items in the dictionary\n",
    "del student['address']\n",
    "print(student)"
   ]
  },
  {
   "cell_type": "code",
   "execution_count": 103,
   "metadata": {},
   "outputs": [],
   "source": [
    "#11  Delete one of the dictionaries\n",
    "del student"
   ]
  }
 ],
 "metadata": {
  "hide_input": false,
  "kernelspec": {
   "display_name": "Python 3",
   "language": "python",
   "name": "python3"
  },
  "language_info": {
   "codemirror_mode": {
    "name": "ipython",
    "version": 3
   },
   "file_extension": ".py",
   "mimetype": "text/x-python",
   "name": "python",
   "nbconvert_exporter": "python",
   "pygments_lexer": "ipython3",
   "version": "3.8.8"
  },
  "toc": {
   "base_numbering": 1,
   "nav_menu": {},
   "number_sections": true,
   "sideBar": true,
   "skip_h1_title": false,
   "title_cell": "Table of Contents",
   "title_sidebar": "Contents",
   "toc_cell": false,
   "toc_position": {},
   "toc_section_display": true,
   "toc_window_display": false
  },
  "varInspector": {
   "cols": {
    "lenName": 16,
    "lenType": 16,
    "lenVar": 40
   },
   "kernels_config": {
    "python": {
     "delete_cmd_postfix": "",
     "delete_cmd_prefix": "del ",
     "library": "var_list.py",
     "varRefreshCmd": "print(var_dic_list())"
    },
    "r": {
     "delete_cmd_postfix": ") ",
     "delete_cmd_prefix": "rm(",
     "library": "var_list.r",
     "varRefreshCmd": "cat(var_dic_list()) "
    }
   },
   "types_to_exclude": [
    "module",
    "function",
    "builtin_function_or_method",
    "instance",
    "_Feature"
   ],
   "window_display": false
  }
 },
 "nbformat": 4,
 "nbformat_minor": 2
}
