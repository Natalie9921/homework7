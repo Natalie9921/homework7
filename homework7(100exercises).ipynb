{
 "cells": [
  {
   "cell_type": "code",
   "execution_count": 3,
   "id": "ba3a5081",
   "metadata": {},
   "outputs": [
    {
     "name": "stdout",
     "output_type": "stream",
     "text": [
      "1.20.1\n",
      "blas_mkl_info:\n",
      "    libraries = ['mkl_rt']\n",
      "    library_dirs = ['C:/ProgramData/Anaconda3\\\\Library\\\\lib']\n",
      "    define_macros = [('SCIPY_MKL_H', None), ('HAVE_CBLAS', None)]\n",
      "    include_dirs = ['C:/ProgramData/Anaconda3\\\\Library\\\\include']\n",
      "blas_opt_info:\n",
      "    libraries = ['mkl_rt']\n",
      "    library_dirs = ['C:/ProgramData/Anaconda3\\\\Library\\\\lib']\n",
      "    define_macros = [('SCIPY_MKL_H', None), ('HAVE_CBLAS', None)]\n",
      "    include_dirs = ['C:/ProgramData/Anaconda3\\\\Library\\\\include']\n",
      "lapack_mkl_info:\n",
      "    libraries = ['mkl_rt']\n",
      "    library_dirs = ['C:/ProgramData/Anaconda3\\\\Library\\\\lib']\n",
      "    define_macros = [('SCIPY_MKL_H', None), ('HAVE_CBLAS', None)]\n",
      "    include_dirs = ['C:/ProgramData/Anaconda3\\\\Library\\\\include']\n",
      "lapack_opt_info:\n",
      "    libraries = ['mkl_rt']\n",
      "    library_dirs = ['C:/ProgramData/Anaconda3\\\\Library\\\\lib']\n",
      "    define_macros = [('SCIPY_MKL_H', None), ('HAVE_CBLAS', None)]\n",
      "    include_dirs = ['C:/ProgramData/Anaconda3\\\\Library\\\\include']\n"
     ]
    }
   ],
   "source": [
    "#1\n",
    "import numpy as np\n",
    "print(np.__version__)\n",
    "np.show_config()"
   ]
  },
  {
   "cell_type": "code",
   "execution_count": 4,
   "id": "f91cd854",
   "metadata": {},
   "outputs": [
    {
     "data": {
      "text/plain": [
       "array([1, 2, 3])"
      ]
     },
     "execution_count": 4,
     "metadata": {},
     "output_type": "execute_result"
    }
   ],
   "source": [
    "#2\n",
    "np.array([1,2,3])"
   ]
  },
  {
   "cell_type": "code",
   "execution_count": 24,
   "id": "b0e6c6a9",
   "metadata": {},
   "outputs": [
    {
     "data": {
      "text/plain": [
       "array([0., 0., 0., 0., 0., 0., 0., 0., 0.])"
      ]
     },
     "execution_count": 24,
     "metadata": {},
     "output_type": "execute_result"
    }
   ],
   "source": [
    "#3\n",
    "np.zeros(9)"
   ]
  },
  {
   "cell_type": "code",
   "execution_count": 6,
   "id": "2554c1f7",
   "metadata": {},
   "outputs": [
    {
     "name": "stdout",
     "output_type": "stream",
     "text": [
      "432 bytes\n"
     ]
    }
   ],
   "source": [
    "#4\n",
    "Z=np.zeros((6,9))\n",
    "print(\"%d bytes\" %(Z.size*Z.itemsize))"
   ]
  },
  {
   "cell_type": "code",
   "execution_count": 7,
   "id": "af8b9a04",
   "metadata": {},
   "outputs": [
    {
     "ename": "Exception",
     "evalue": "File `'`python.py'` not found.",
     "output_type": "error",
     "traceback": [
      "\u001b[1;31m---------------------------------------------------------------------------\u001b[0m",
      "\u001b[1;31mOSError\u001b[0m                                   Traceback (most recent call last)",
      "\u001b[1;32mC:\\ProgramData\\Anaconda3\\lib\\site-packages\\IPython\\core\\magics\\execution.py\u001b[0m in \u001b[0;36mrun\u001b[1;34m(self, parameter_s, runner, file_finder)\u001b[0m\n\u001b[0;32m    702\u001b[0m             \u001b[0mfpath\u001b[0m \u001b[1;33m=\u001b[0m \u001b[0marg_lst\u001b[0m\u001b[1;33m[\u001b[0m\u001b[1;36m0\u001b[0m\u001b[1;33m]\u001b[0m\u001b[1;33m\u001b[0m\u001b[1;33m\u001b[0m\u001b[0m\n\u001b[1;32m--> 703\u001b[1;33m             \u001b[0mfilename\u001b[0m \u001b[1;33m=\u001b[0m \u001b[0mfile_finder\u001b[0m\u001b[1;33m(\u001b[0m\u001b[0mfpath\u001b[0m\u001b[1;33m)\u001b[0m\u001b[1;33m\u001b[0m\u001b[1;33m\u001b[0m\u001b[0m\n\u001b[0m\u001b[0;32m    704\u001b[0m         \u001b[1;32mexcept\u001b[0m \u001b[0mIndexError\u001b[0m\u001b[1;33m:\u001b[0m\u001b[1;33m\u001b[0m\u001b[1;33m\u001b[0m\u001b[0m\n",
      "\u001b[1;32mC:\\ProgramData\\Anaconda3\\lib\\site-packages\\IPython\\utils\\path.py\u001b[0m in \u001b[0;36mget_py_filename\u001b[1;34m(name, force_win32)\u001b[0m\n\u001b[0;32m    108\u001b[0m     \u001b[1;32melse\u001b[0m\u001b[1;33m:\u001b[0m\u001b[1;33m\u001b[0m\u001b[1;33m\u001b[0m\u001b[0m\n\u001b[1;32m--> 109\u001b[1;33m         \u001b[1;32mraise\u001b[0m \u001b[0mIOError\u001b[0m\u001b[1;33m(\u001b[0m\u001b[1;34m'File `%r` not found.'\u001b[0m \u001b[1;33m%\u001b[0m \u001b[0mname\u001b[0m\u001b[1;33m)\u001b[0m\u001b[1;33m\u001b[0m\u001b[1;33m\u001b[0m\u001b[0m\n\u001b[0m\u001b[0;32m    110\u001b[0m \u001b[1;33m\u001b[0m\u001b[0m\n",
      "\u001b[1;31mOSError\u001b[0m: File `'`python.py'` not found.",
      "\nDuring handling of the above exception, another exception occurred:\n",
      "\u001b[1;31mException\u001b[0m                                 Traceback (most recent call last)",
      "\u001b[1;32m<ipython-input-7-936f7f228b67>\u001b[0m in \u001b[0;36m<module>\u001b[1;34m\u001b[0m\n\u001b[0;32m      1\u001b[0m \u001b[1;31m#5\u001b[0m\u001b[1;33m\u001b[0m\u001b[1;33m\u001b[0m\u001b[1;33m\u001b[0m\u001b[0m\n\u001b[1;32m----> 2\u001b[1;33m \u001b[0mget_ipython\u001b[0m\u001b[1;33m(\u001b[0m\u001b[1;33m)\u001b[0m\u001b[1;33m.\u001b[0m\u001b[0mrun_line_magic\u001b[0m\u001b[1;33m(\u001b[0m\u001b[1;34m'run'\u001b[0m\u001b[1;33m,\u001b[0m \u001b[1;34m'`python -c \"import numpy; numpy.info(numpy.add)\"`'\u001b[0m\u001b[1;33m)\u001b[0m\u001b[1;33m\u001b[0m\u001b[1;33m\u001b[0m\u001b[0m\n\u001b[0m",
      "\u001b[1;32mC:\\ProgramData\\Anaconda3\\lib\\site-packages\\IPython\\core\\interactiveshell.py\u001b[0m in \u001b[0;36mrun_line_magic\u001b[1;34m(self, magic_name, line, _stack_depth)\u001b[0m\n\u001b[0;32m   2342\u001b[0m                 \u001b[0mkwargs\u001b[0m\u001b[1;33m[\u001b[0m\u001b[1;34m'local_ns'\u001b[0m\u001b[1;33m]\u001b[0m \u001b[1;33m=\u001b[0m \u001b[0mself\u001b[0m\u001b[1;33m.\u001b[0m\u001b[0mget_local_scope\u001b[0m\u001b[1;33m(\u001b[0m\u001b[0mstack_depth\u001b[0m\u001b[1;33m)\u001b[0m\u001b[1;33m\u001b[0m\u001b[1;33m\u001b[0m\u001b[0m\n\u001b[0;32m   2343\u001b[0m             \u001b[1;32mwith\u001b[0m \u001b[0mself\u001b[0m\u001b[1;33m.\u001b[0m\u001b[0mbuiltin_trap\u001b[0m\u001b[1;33m:\u001b[0m\u001b[1;33m\u001b[0m\u001b[1;33m\u001b[0m\u001b[0m\n\u001b[1;32m-> 2344\u001b[1;33m                 \u001b[0mresult\u001b[0m \u001b[1;33m=\u001b[0m \u001b[0mfn\u001b[0m\u001b[1;33m(\u001b[0m\u001b[1;33m*\u001b[0m\u001b[0margs\u001b[0m\u001b[1;33m,\u001b[0m \u001b[1;33m**\u001b[0m\u001b[0mkwargs\u001b[0m\u001b[1;33m)\u001b[0m\u001b[1;33m\u001b[0m\u001b[1;33m\u001b[0m\u001b[0m\n\u001b[0m\u001b[0;32m   2345\u001b[0m             \u001b[1;32mreturn\u001b[0m \u001b[0mresult\u001b[0m\u001b[1;33m\u001b[0m\u001b[1;33m\u001b[0m\u001b[0m\n\u001b[0;32m   2346\u001b[0m \u001b[1;33m\u001b[0m\u001b[0m\n",
      "\u001b[1;32mC:\\ProgramData\\Anaconda3\\lib\\site-packages\\decorator.py\u001b[0m in \u001b[0;36mfun\u001b[1;34m(*args, **kw)\u001b[0m\n\u001b[0;32m    229\u001b[0m             \u001b[1;32mif\u001b[0m \u001b[1;32mnot\u001b[0m \u001b[0mkwsyntax\u001b[0m\u001b[1;33m:\u001b[0m\u001b[1;33m\u001b[0m\u001b[1;33m\u001b[0m\u001b[0m\n\u001b[0;32m    230\u001b[0m                 \u001b[0margs\u001b[0m\u001b[1;33m,\u001b[0m \u001b[0mkw\u001b[0m \u001b[1;33m=\u001b[0m \u001b[0mfix\u001b[0m\u001b[1;33m(\u001b[0m\u001b[0margs\u001b[0m\u001b[1;33m,\u001b[0m \u001b[0mkw\u001b[0m\u001b[1;33m,\u001b[0m \u001b[0msig\u001b[0m\u001b[1;33m)\u001b[0m\u001b[1;33m\u001b[0m\u001b[1;33m\u001b[0m\u001b[0m\n\u001b[1;32m--> 231\u001b[1;33m             \u001b[1;32mreturn\u001b[0m \u001b[0mcaller\u001b[0m\u001b[1;33m(\u001b[0m\u001b[0mfunc\u001b[0m\u001b[1;33m,\u001b[0m \u001b[1;33m*\u001b[0m\u001b[1;33m(\u001b[0m\u001b[0mextras\u001b[0m \u001b[1;33m+\u001b[0m \u001b[0margs\u001b[0m\u001b[1;33m)\u001b[0m\u001b[1;33m,\u001b[0m \u001b[1;33m**\u001b[0m\u001b[0mkw\u001b[0m\u001b[1;33m)\u001b[0m\u001b[1;33m\u001b[0m\u001b[1;33m\u001b[0m\u001b[0m\n\u001b[0m\u001b[0;32m    232\u001b[0m     \u001b[0mfun\u001b[0m\u001b[1;33m.\u001b[0m\u001b[0m__name__\u001b[0m \u001b[1;33m=\u001b[0m \u001b[0mfunc\u001b[0m\u001b[1;33m.\u001b[0m\u001b[0m__name__\u001b[0m\u001b[1;33m\u001b[0m\u001b[1;33m\u001b[0m\u001b[0m\n\u001b[0;32m    233\u001b[0m     \u001b[0mfun\u001b[0m\u001b[1;33m.\u001b[0m\u001b[0m__doc__\u001b[0m \u001b[1;33m=\u001b[0m \u001b[0mfunc\u001b[0m\u001b[1;33m.\u001b[0m\u001b[0m__doc__\u001b[0m\u001b[1;33m\u001b[0m\u001b[1;33m\u001b[0m\u001b[0m\n",
      "\u001b[1;32mC:\\ProgramData\\Anaconda3\\lib\\site-packages\\IPython\\core\\magic.py\u001b[0m in \u001b[0;36m<lambda>\u001b[1;34m(f, *a, **k)\u001b[0m\n\u001b[0;32m    185\u001b[0m     \u001b[1;31m# but it's overkill for just that one bit of state.\u001b[0m\u001b[1;33m\u001b[0m\u001b[1;33m\u001b[0m\u001b[1;33m\u001b[0m\u001b[0m\n\u001b[0;32m    186\u001b[0m     \u001b[1;32mdef\u001b[0m \u001b[0mmagic_deco\u001b[0m\u001b[1;33m(\u001b[0m\u001b[0marg\u001b[0m\u001b[1;33m)\u001b[0m\u001b[1;33m:\u001b[0m\u001b[1;33m\u001b[0m\u001b[1;33m\u001b[0m\u001b[0m\n\u001b[1;32m--> 187\u001b[1;33m         \u001b[0mcall\u001b[0m \u001b[1;33m=\u001b[0m \u001b[1;32mlambda\u001b[0m \u001b[0mf\u001b[0m\u001b[1;33m,\u001b[0m \u001b[1;33m*\u001b[0m\u001b[0ma\u001b[0m\u001b[1;33m,\u001b[0m \u001b[1;33m**\u001b[0m\u001b[0mk\u001b[0m\u001b[1;33m:\u001b[0m \u001b[0mf\u001b[0m\u001b[1;33m(\u001b[0m\u001b[1;33m*\u001b[0m\u001b[0ma\u001b[0m\u001b[1;33m,\u001b[0m \u001b[1;33m**\u001b[0m\u001b[0mk\u001b[0m\u001b[1;33m)\u001b[0m\u001b[1;33m\u001b[0m\u001b[1;33m\u001b[0m\u001b[0m\n\u001b[0m\u001b[0;32m    188\u001b[0m \u001b[1;33m\u001b[0m\u001b[0m\n\u001b[0;32m    189\u001b[0m         \u001b[1;32mif\u001b[0m \u001b[0mcallable\u001b[0m\u001b[1;33m(\u001b[0m\u001b[0marg\u001b[0m\u001b[1;33m)\u001b[0m\u001b[1;33m:\u001b[0m\u001b[1;33m\u001b[0m\u001b[1;33m\u001b[0m\u001b[0m\n",
      "\u001b[1;32mC:\\ProgramData\\Anaconda3\\lib\\site-packages\\IPython\\core\\magics\\execution.py\u001b[0m in \u001b[0;36mrun\u001b[1;34m(self, parameter_s, runner, file_finder)\u001b[0m\n\u001b[0;32m    712\u001b[0m             \u001b[1;32mif\u001b[0m \u001b[0mos\u001b[0m\u001b[1;33m.\u001b[0m\u001b[0mname\u001b[0m \u001b[1;33m==\u001b[0m \u001b[1;34m'nt'\u001b[0m \u001b[1;32mand\u001b[0m \u001b[0mre\u001b[0m\u001b[1;33m.\u001b[0m\u001b[0mmatch\u001b[0m\u001b[1;33m(\u001b[0m\u001b[1;34mr\"^'.*'$\"\u001b[0m\u001b[1;33m,\u001b[0m\u001b[0mfpath\u001b[0m\u001b[1;33m)\u001b[0m\u001b[1;33m:\u001b[0m\u001b[1;33m\u001b[0m\u001b[1;33m\u001b[0m\u001b[0m\n\u001b[0;32m    713\u001b[0m                 \u001b[0mwarn\u001b[0m\u001b[1;33m(\u001b[0m\u001b[1;34m'For Windows, use double quotes to wrap a filename: %run \"mypath\\\\myfile.py\"'\u001b[0m\u001b[1;33m)\u001b[0m\u001b[1;33m\u001b[0m\u001b[1;33m\u001b[0m\u001b[0m\n\u001b[1;32m--> 714\u001b[1;33m             \u001b[1;32mraise\u001b[0m \u001b[0mException\u001b[0m\u001b[1;33m(\u001b[0m\u001b[0mmsg\u001b[0m\u001b[1;33m)\u001b[0m\u001b[1;33m\u001b[0m\u001b[1;33m\u001b[0m\u001b[0m\n\u001b[0m\u001b[0;32m    715\u001b[0m         \u001b[1;32mexcept\u001b[0m \u001b[0mTypeError\u001b[0m\u001b[1;33m:\u001b[0m\u001b[1;33m\u001b[0m\u001b[1;33m\u001b[0m\u001b[0m\n\u001b[0;32m    716\u001b[0m             \u001b[1;32mif\u001b[0m \u001b[0mfpath\u001b[0m \u001b[1;32min\u001b[0m \u001b[0msys\u001b[0m\u001b[1;33m.\u001b[0m\u001b[0mmeta_path\u001b[0m\u001b[1;33m:\u001b[0m\u001b[1;33m\u001b[0m\u001b[1;33m\u001b[0m\u001b[0m\n",
      "\u001b[1;31mException\u001b[0m: File `'`python.py'` not found."
     ]
    }
   ],
   "source": [
    "#5\n",
    "%run `python -c \"import numpy; numpy.info(numpy.add)\"`"
   ]
  },
  {
   "cell_type": "code",
   "execution_count": 23,
   "id": "205ac8a3",
   "metadata": {},
   "outputs": [
    {
     "name": "stdout",
     "output_type": "stream",
     "text": [
      "[0. 0. 0. 0. 0. 1. 0. 0. 0. 0. 0. 0.]\n"
     ]
    }
   ],
   "source": [
    "#6\n",
    "Z=np.zeros(12)\n",
    "Z[5]=1\n",
    "print(Z)"
   ]
  },
  {
   "cell_type": "code",
   "execution_count": 22,
   "id": "301df78d",
   "metadata": {},
   "outputs": [
    {
     "data": {
      "text/plain": [
       "array([20, 21, 22, 23, 24, 25, 26, 27, 28, 29, 30, 31, 32, 33, 34, 35, 36,\n",
       "       37, 38, 39, 40, 41, 42, 43, 44, 45, 46, 47, 48, 49, 50, 51, 52, 53,\n",
       "       54, 55, 56, 57, 58])"
      ]
     },
     "execution_count": 22,
     "metadata": {},
     "output_type": "execute_result"
    }
   ],
   "source": [
    "#7\n",
    "np.arange(20,59)"
   ]
  },
  {
   "cell_type": "code",
   "execution_count": 25,
   "id": "b3c767f4",
   "metadata": {},
   "outputs": [
    {
     "name": "stdout",
     "output_type": "stream",
     "text": [
      "[20 19 18 17 16 15 14 13 12 11 10  9  8  7  6  5  4  3  2  1  0]\n"
     ]
    }
   ],
   "source": [
    "#8\n",
    "Z=np.arange(21)\n",
    "Z=Z[::-1]\n",
    "print(Z)"
   ]
  },
  {
   "cell_type": "code",
   "execution_count": 38,
   "id": "b92872b3",
   "metadata": {},
   "outputs": [
    {
     "data": {
      "text/plain": [
       "array([[12, 13, 14],\n",
       "       [15, 16, 17],\n",
       "       [18, 19, 20]])"
      ]
     },
     "execution_count": 38,
     "metadata": {},
     "output_type": "execute_result"
    }
   ],
   "source": [
    "#9\n",
    "my_list = [12,13,14,15,16,17,18,19,20]\n",
    "np.array(my_list).reshape(3,3)"
   ]
  },
  {
   "cell_type": "code",
   "execution_count": 39,
   "id": "acc954c7",
   "metadata": {},
   "outputs": [
    {
     "data": {
      "text/plain": [
       "(array([0, 1, 4], dtype=int64),)"
      ]
     },
     "execution_count": 39,
     "metadata": {},
     "output_type": "execute_result"
    }
   ],
   "source": [
    "#10\n",
    "np.nonzero([3,7,0,0,9,0])"
   ]
  },
  {
   "cell_type": "code",
   "execution_count": 40,
   "id": "10bfc72d",
   "metadata": {},
   "outputs": [
    {
     "data": {
      "text/plain": [
       "array([[1., 0., 0., 0.],\n",
       "       [0., 1., 0., 0.],\n",
       "       [0., 0., 1., 0.],\n",
       "       [0., 0., 0., 1.]])"
      ]
     },
     "execution_count": 40,
     "metadata": {},
     "output_type": "execute_result"
    }
   ],
   "source": [
    "#11\n",
    "np.eye(4)"
   ]
  },
  {
   "cell_type": "code",
   "execution_count": 42,
   "id": "a21c8d85",
   "metadata": {},
   "outputs": [
    {
     "data": {
      "text/plain": [
       "array([[[0.96992716, 0.62021438, 0.4019529 ],\n",
       "        [0.01556282, 0.8108002 , 0.61255013],\n",
       "        [0.67664844, 0.81021283, 0.14097621]],\n",
       "\n",
       "       [[0.9198398 , 0.87776798, 0.73135253],\n",
       "        [0.58048489, 0.63373892, 0.25562472],\n",
       "        [0.49948952, 0.12592326, 0.39318155]],\n",
       "\n",
       "       [[0.34187124, 0.7833349 , 0.83628881],\n",
       "        [0.89298037, 0.85232084, 0.81309519],\n",
       "        [0.62336762, 0.24106103, 0.97701311]]])"
      ]
     },
     "execution_count": 42,
     "metadata": {},
     "output_type": "execute_result"
    }
   ],
   "source": [
    "#12\n",
    "np.random.random((3,3,3))"
   ]
  },
  {
   "cell_type": "code",
   "execution_count": 58,
   "id": "f936ed96",
   "metadata": {},
   "outputs": [
    {
     "name": "stdout",
     "output_type": "stream",
     "text": [
      "[[0.91619378 0.2382307  0.4307134  0.52162628 0.2633632  0.82154622\n",
      "  0.02239185 0.55824964 0.32965129]\n",
      " [0.1457714  0.51024558 0.97581879 0.63785654 0.6846759  0.60419444\n",
      "  0.35730451 0.65986941 0.00345704]\n",
      " [0.75817685 0.86964552 0.37696627 0.07661158 0.1669833  0.23568589\n",
      "  0.26620696 0.52980826 0.89095627]\n",
      " [0.22338554 0.02057846 0.57895785 0.70364285 0.82029554 0.04161377\n",
      "  0.5579192  0.774145   0.63858834]\n",
      " [0.02924759 0.68648155 0.2782833  0.53102569 0.76931122 0.2805655\n",
      "  0.92514692 0.41481967 0.38293076]\n",
      " [0.03971865 0.99429381 0.62669654 0.95464207 0.02631919 0.75557925\n",
      "  0.19962448 0.0554737  0.01680067]\n",
      " [0.58261459 0.65372781 0.70483193 0.61279868 0.22363638 0.89371123\n",
      "  0.1640311  0.81803068 0.78416683]\n",
      " [0.26227329 0.77439954 0.23849114 0.2590742  0.14827592 0.96952378\n",
      "  0.43186674 0.37324329 0.03211122]\n",
      " [0.27911826 0.87761214 0.72980526 0.8654671  0.22308632 0.74149194\n",
      "  0.72224584 0.93353146 0.66337017]]\n",
      "0.9942938118067051\n",
      "0.0034570375913457463\n"
     ]
    }
   ],
   "source": [
    "#13\n",
    "a=np.random.random((9,9))\n",
    "print(a)\n",
    "print(a.max())\n",
    "print(a.min())"
   ]
  },
  {
   "cell_type": "code",
   "execution_count": 50,
   "id": "2d75daf3",
   "metadata": {},
   "outputs": [
    {
     "data": {
      "text/plain": [
       "0.6286959645012914"
      ]
     },
     "execution_count": 50,
     "metadata": {},
     "output_type": "execute_result"
    }
   ],
   "source": [
    "#14\n",
    "a=np.random.random(20)\n",
    "a.mean()"
   ]
  },
  {
   "cell_type": "code",
   "execution_count": 60,
   "id": "01ce12cd",
   "metadata": {},
   "outputs": [
    {
     "name": "stdout",
     "output_type": "stream",
     "text": [
      "[[1. 1. 1. 1. 1. 1. 1. 1. 1.]\n",
      " [1. 0. 0. 0. 0. 0. 0. 0. 1.]\n",
      " [1. 0. 0. 0. 0. 0. 0. 0. 1.]\n",
      " [1. 0. 0. 0. 0. 0. 0. 0. 1.]\n",
      " [1. 0. 0. 0. 0. 0. 0. 0. 1.]\n",
      " [1. 0. 0. 0. 0. 0. 0. 0. 1.]\n",
      " [1. 0. 0. 0. 0. 0. 0. 0. 1.]\n",
      " [1. 0. 0. 0. 0. 0. 0. 0. 1.]\n",
      " [1. 1. 1. 1. 1. 1. 1. 1. 1.]]\n"
     ]
    }
   ],
   "source": [
    "#15\n",
    "a=np.ones((9,9))\n",
    "a[1:-1,1:-1]=0\n",
    "print(a)"
   ]
  },
  {
   "cell_type": "code",
   "execution_count": 62,
   "id": "3e43aa81",
   "metadata": {},
   "outputs": [
    {
     "name": "stdout",
     "output_type": "stream",
     "text": [
      "[[0. 0. 0. 0. 0.]\n",
      " [0. 1. 1. 1. 0.]\n",
      " [0. 1. 1. 1. 0.]\n",
      " [0. 1. 1. 1. 0.]\n",
      " [0. 0. 0. 0. 0.]]\n"
     ]
    }
   ],
   "source": [
    "#16\n",
    "a=np.ones((3,3))\n",
    "a=np.pad(a,pad_width=1,mode='constant',constant_values=0)\n",
    "print(a)"
   ]
  },
  {
   "cell_type": "code",
   "execution_count": 63,
   "id": "42f0d443",
   "metadata": {},
   "outputs": [
    {
     "name": "stdout",
     "output_type": "stream",
     "text": [
      "nan\n",
      "False\n",
      "False\n",
      "nan\n",
      "True\n",
      "False\n"
     ]
    }
   ],
   "source": [
    "#17\n",
    "print(0 * np.nan)\n",
    "print(np.nan == np.nan)\n",
    "print(np.inf > np.nan)\n",
    "print(np.nan - np.nan)\n",
    "print(np.nan in set([np.nan]))\n",
    "print(0.7 == 7 * 0.1)"
   ]
  },
  {
   "cell_type": "code",
   "execution_count": 66,
   "id": "7691dba6",
   "metadata": {},
   "outputs": [
    {
     "name": "stdout",
     "output_type": "stream",
     "text": [
      "[[0 0 0 0 0 0]\n",
      " [1 0 0 0 0 0]\n",
      " [0 2 0 0 0 0]\n",
      " [0 0 3 0 0 0]\n",
      " [0 0 0 4 0 0]\n",
      " [0 0 0 0 5 0]]\n"
     ]
    }
   ],
   "source": [
    "#18\n",
    "a=np.diag(np.arange(1,6),k=-1)\n",
    "print(a)"
   ]
  },
  {
   "cell_type": "code",
   "execution_count": 68,
   "id": "10abd3ec",
   "metadata": {},
   "outputs": [
    {
     "name": "stdout",
     "output_type": "stream",
     "text": [
      "[[0 1 0 1 0 1]\n",
      " [1 0 1 0 1 0]\n",
      " [0 1 0 1 0 1]\n",
      " [1 0 1 0 1 0]\n",
      " [0 1 0 1 0 1]\n",
      " [1 0 1 0 1 0]]\n"
     ]
    }
   ],
   "source": [
    "#19\n",
    "a=np.zeros((6,6),dtype=int)\n",
    "a[1::2,::2]=1\n",
    "a[::2,1::2]=1\n",
    "print(a)"
   ]
  },
  {
   "cell_type": "code",
   "execution_count": 69,
   "id": "3a7db7bc",
   "metadata": {},
   "outputs": [
    {
     "data": {
      "text/plain": [
       "(1, 1, 0)"
      ]
     },
     "execution_count": 69,
     "metadata": {},
     "output_type": "execute_result"
    }
   ],
   "source": [
    "#20\n",
    "np.unravel_index(100,(8,9,10))"
   ]
  },
  {
   "cell_type": "code",
   "execution_count": 71,
   "id": "495e5a78",
   "metadata": {},
   "outputs": [
    {
     "data": {
      "text/plain": [
       "array([[0, 1, 0, 1, 0, 1, 0, 1],\n",
       "       [1, 0, 1, 0, 1, 0, 1, 0],\n",
       "       [0, 1, 0, 1, 0, 1, 0, 1],\n",
       "       [1, 0, 1, 0, 1, 0, 1, 0],\n",
       "       [0, 1, 0, 1, 0, 1, 0, 1],\n",
       "       [1, 0, 1, 0, 1, 0, 1, 0],\n",
       "       [0, 1, 0, 1, 0, 1, 0, 1],\n",
       "       [1, 0, 1, 0, 1, 0, 1, 0]])"
      ]
     },
     "execution_count": 71,
     "metadata": {},
     "output_type": "execute_result"
    }
   ],
   "source": [
    "#21\n",
    "np.tile([[0,1],[1,0]],[4,4])"
   ]
  },
  {
   "cell_type": "code",
   "execution_count": 73,
   "id": "7176ffc1",
   "metadata": {},
   "outputs": [
    {
     "name": "stdout",
     "output_type": "stream",
     "text": [
      "[[ 0.50355191  2.01797618 -1.03668701 -1.53317838  1.03132848  0.77147884]\n",
      " [-1.32686359 -1.58323234  0.12637073 -0.15775035  0.56624172 -1.43706179]\n",
      " [ 1.50257171  1.61946138 -1.11707367  0.11788     0.08449907  0.18167215]\n",
      " [-0.50429997  0.89562285 -0.201362   -1.09964715 -0.2602902   0.90096501]\n",
      " [ 0.71054864 -0.0367204  -0.98899775 -0.00300955 -0.44277562 -0.15644632]\n",
      " [ 0.28831949 -0.06304694  1.33292644 -1.40294819 -1.19051479  1.8904914 ]]\n"
     ]
    }
   ],
   "source": [
    "#22\n",
    "a=np.random.random((6,6))\n",
    "a=(a-np.mean(a))/(np.std(a))\n",
    "print(a)"
   ]
  },
  {
   "cell_type": "code",
   "execution_count": null,
   "id": "54ae2e67",
   "metadata": {},
   "outputs": [],
   "source": [
    "#23\n"
   ]
  },
  {
   "cell_type": "code",
   "execution_count": 74,
   "id": "bab965f9",
   "metadata": {},
   "outputs": [
    {
     "data": {
      "text/plain": [
       "array([[3., 3., 3., 3.],\n",
       "       [3., 3., 3., 3.],\n",
       "       [3., 3., 3., 3.],\n",
       "       [3., 3., 3., 3.],\n",
       "       [3., 3., 3., 3.],\n",
       "       [3., 3., 3., 3.]])"
      ]
     },
     "execution_count": 74,
     "metadata": {},
     "output_type": "execute_result"
    }
   ],
   "source": [
    "#24\n",
    "a=np.ones((6,3))\n",
    "b=np.ones((3,4))\n",
    "np.dot(a,b)"
   ]
  },
  {
   "cell_type": "code",
   "execution_count": 76,
   "id": "8b6542eb",
   "metadata": {},
   "outputs": [
    {
     "name": "stdout",
     "output_type": "stream",
     "text": [
      "[ 1  2  3 -4 -5 -6 -7  8  9]\n"
     ]
    }
   ],
   "source": [
    "#25\n",
    "a=np.arange(1,10)\n",
    "a[(a>3)&(a<8)]*=-1\n",
    "print(a)"
   ]
  },
  {
   "cell_type": "code",
   "execution_count": 77,
   "id": "dc13463e",
   "metadata": {},
   "outputs": [
    {
     "name": "stdout",
     "output_type": "stream",
     "text": [
      "9\n",
      "10\n"
     ]
    }
   ],
   "source": [
    "#26\n",
    "print(sum(range(5),-1))\n",
    "from numpy import *\n",
    "print(sum(range(5),-1))"
   ]
  },
  {
   "cell_type": "code",
   "execution_count": 85,
   "id": "4ca917b5",
   "metadata": {},
   "outputs": [
    {
     "name": "stdout",
     "output_type": "stream",
     "text": [
      "[False False]\n",
      "[False False]\n",
      "[ True  True]\n",
      "[ True  True]\n"
     ]
    }
   ],
   "source": [
    "#27\n",
    "a=np.array([1,2])\n",
    "b=np.array([4,5])\n",
    "print(a>b)\n",
    "print(a>=b)\n",
    "print(a<b)\n",
    "print(a<=b)"
   ]
  },
  {
   "cell_type": "code",
   "execution_count": 86,
   "id": "4e06ca02",
   "metadata": {},
   "outputs": [
    {
     "name": "stdout",
     "output_type": "stream",
     "text": [
      "nan\n",
      "0\n",
      "[-2.14748365e+09]\n"
     ]
    },
    {
     "name": "stderr",
     "output_type": "stream",
     "text": [
      "<ipython-input-86-f3f98d8788e5>:2: RuntimeWarning: invalid value encountered in true_divide\n",
      "  print(np.array(0) / np.array(0))\n",
      "<ipython-input-86-f3f98d8788e5>:3: RuntimeWarning: divide by zero encountered in floor_divide\n",
      "  print(np.array(0) // np.array(0))\n"
     ]
    }
   ],
   "source": [
    "#28\n",
    "print(np.array(0) / np.array(0))\n",
    "print(np.array(0) // np.array(0))\n",
    "print(np.array([np.nan]).astype(int).astype(float))"
   ]
  },
  {
   "cell_type": "code",
   "execution_count": 91,
   "id": "ac1840b5",
   "metadata": {},
   "outputs": [
    {
     "name": "stdout",
     "output_type": "stream",
     "text": [
      "[1 4]\n",
      "[0 2]\n",
      "[False False]\n",
      "[0.+1.j 0.+2.j]\n",
      "[1. 2.]\n"
     ]
    },
    {
     "ename": "ValueError",
     "evalue": "The truth value of an array with more than one element is ambiguous. Use a.any() or a.all()",
     "output_type": "error",
     "traceback": [
      "\u001b[1;31m---------------------------------------------------------------------------\u001b[0m",
      "\u001b[1;31mValueError\u001b[0m                                Traceback (most recent call last)",
      "\u001b[1;32m<ipython-input-91-08f9fff819ec>\u001b[0m in \u001b[0;36m<module>\u001b[1;34m\u001b[0m\n\u001b[0;32m      5\u001b[0m \u001b[0mprint\u001b[0m\u001b[1;33m(\u001b[0m\u001b[1;36m1j\u001b[0m\u001b[1;33m*\u001b[0m\u001b[0ma\u001b[0m\u001b[1;33m)\u001b[0m\u001b[1;33m\u001b[0m\u001b[1;33m\u001b[0m\u001b[0m\n\u001b[0;32m      6\u001b[0m \u001b[0mprint\u001b[0m\u001b[1;33m(\u001b[0m\u001b[0ma\u001b[0m\u001b[1;33m/\u001b[0m\u001b[1;36m1\u001b[0m\u001b[1;33m/\u001b[0m\u001b[1;36m1\u001b[0m\u001b[1;33m)\u001b[0m\u001b[1;33m\u001b[0m\u001b[1;33m\u001b[0m\u001b[0m\n\u001b[1;32m----> 7\u001b[1;33m \u001b[0mprint\u001b[0m\u001b[1;33m(\u001b[0m\u001b[0ma\u001b[0m\u001b[1;33m<\u001b[0m\u001b[0ma\u001b[0m\u001b[1;33m>\u001b[0m\u001b[0ma\u001b[0m\u001b[1;33m)\u001b[0m\u001b[1;33m\u001b[0m\u001b[1;33m\u001b[0m\u001b[0m\n\u001b[0m",
      "\u001b[1;31mValueError\u001b[0m: The truth value of an array with more than one element is ambiguous. Use a.any() or a.all()"
     ]
    }
   ],
   "source": [
    "#28\n",
    "print(a**a)\n",
    "print(a << a >> 2)\n",
    "print(a <- a)\n",
    "print(1j*a)\n",
    "print(a/1/1)\n",
    "print(a<a>a)"
   ]
  },
  {
   "cell_type": "code",
   "execution_count": 93,
   "id": "b07d72c1",
   "metadata": {},
   "outputs": [
    {
     "name": "stdout",
     "output_type": "stream",
     "text": [
      "[ 2.  3. -3.  1.]\n"
     ]
    }
   ],
   "source": [
    "#29\n",
    "a=np.random.uniform(-4,+4,4)\n",
    "print(np.copysign(np.ceil(np.abs(a)),a))"
   ]
  },
  {
   "cell_type": "code",
   "execution_count": 95,
   "id": "9c607805",
   "metadata": {},
   "outputs": [
    {
     "name": "stdout",
     "output_type": "stream",
     "text": [
      "[0 2 4 5]\n"
     ]
    }
   ],
   "source": [
    "#30\n",
    "a1=np.random.randint(0,9,5)\n",
    "a2=np.random.randint(0,10,10)\n",
    "print(np.intersect1d(a1,a2))"
   ]
  },
  {
   "cell_type": "code",
   "execution_count": 99,
   "id": "848bb0c2",
   "metadata": {},
   "outputs": [],
   "source": [
    "#31\n",
    "defaults=np.seterr(all=\"ignore\")\n",
    "a=np.ones(1)/0\n",
    "_=np.seterr(**defaults)\n",
    "with np.errstate(divide='ignore'):\n",
    "    a=np.ones(1)/0"
   ]
  },
  {
   "cell_type": "code",
   "execution_count": 100,
   "id": "640969ca",
   "metadata": {},
   "outputs": [
    {
     "data": {
      "text/plain": [
       "False"
      ]
     },
     "execution_count": 100,
     "metadata": {},
     "output_type": "execute_result"
    }
   ],
   "source": [
    "#32\n",
    "np.sqrt(-1) == np.emath.sqrt(-1)"
   ]
  },
  {
   "cell_type": "code",
   "execution_count": 103,
   "id": "879ff35c",
   "metadata": {},
   "outputs": [
    {
     "name": "stdout",
     "output_type": "stream",
     "text": [
      "2022-04-20\n",
      "2022-04-21\n",
      "2022-04-22\n"
     ]
    }
   ],
   "source": [
    "#33\n",
    "yesterday=np.datetime64('today', 'D') - np.timedelta64(1, 'D')\n",
    "today=np.datetime64('today', 'D')\n",
    "tomorrow=np.datetime64('today', 'D') + np.timedelta64(1, 'D')\n",
    "print(yesterday)\n",
    "print(today)\n",
    "print(tomorrow)"
   ]
  },
  {
   "cell_type": "code",
   "execution_count": 104,
   "id": "46899a61",
   "metadata": {},
   "outputs": [
    {
     "name": "stdout",
     "output_type": "stream",
     "text": [
      "['2016-01-01' '2016-01-02' '2016-01-03' '2016-01-04' '2016-01-05'\n",
      " '2016-01-06' '2016-01-07' '2016-01-08' '2016-01-09' '2016-01-10'\n",
      " '2016-01-11' '2016-01-12' '2016-01-13' '2016-01-14' '2016-01-15'\n",
      " '2016-01-16' '2016-01-17' '2016-01-18' '2016-01-19' '2016-01-20'\n",
      " '2016-01-21' '2016-01-22' '2016-01-23' '2016-01-24' '2016-01-25'\n",
      " '2016-01-26' '2016-01-27' '2016-01-28' '2016-01-29' '2016-01-30'\n",
      " '2016-01-31']\n"
     ]
    }
   ],
   "source": [
    "#34\n",
    "a=np.arange('2016-01', '2016-02', dtype='datetime64[D]')\n",
    "print(a)"
   ]
  },
  {
   "cell_type": "code",
   "execution_count": 117,
   "id": "4bee3756",
   "metadata": {},
   "outputs": [
    {
     "name": "stdout",
     "output_type": "stream",
     "text": [
      "[1. 1. 1.]\n",
      "[2. 2. 2.]\n",
      "[3. 3. 3.]\n"
     ]
    },
    {
     "data": {
      "text/plain": [
       "array([-1.5, -1.5, -1.5])"
      ]
     },
     "execution_count": 117,
     "metadata": {},
     "output_type": "execute_result"
    }
   ],
   "source": [
    "#35\n",
    "A = np.ones(3)*1\n",
    "B = np.ones(3)*2\n",
    "C = np.ones(3)*3\n",
    "print(A)\n",
    "print(B)\n",
    "print(C)\n",
    "np.add(A,B,out=B)\n",
    "np.divide(A,2,out=A)\n",
    "np.negative(A,out=A)\n",
    "np.multiply(A,B,out=A)"
   ]
  },
  {
   "cell_type": "code",
   "execution_count": 120,
   "id": "3cf3f338",
   "metadata": {},
   "outputs": [
    {
     "name": "stdout",
     "output_type": "stream",
     "text": [
      "[0. 1. 5. 2. 7. 5. 4.]\n",
      "[0. 1. 5. 2. 7. 5. 4.]\n",
      "[0 1 5 2 7 5 4]\n",
      "[0. 1. 5. 2. 7. 5. 4.]\n"
     ]
    }
   ],
   "source": [
    "#36\n",
    "a=np.random.uniform(0,10,7)\n",
    "print(a-a%1)\n",
    "print(np.floor(a))\n",
    "print(a.astype(int))\n",
    "print(np.trunc(a))"
   ]
  },
  {
   "cell_type": "code",
   "execution_count": 122,
   "id": "4a0cd418",
   "metadata": {},
   "outputs": [
    {
     "name": "stdout",
     "output_type": "stream",
     "text": [
      "[[0. 1. 2.]\n",
      " [0. 1. 2.]\n",
      " [0. 1. 2.]]\n"
     ]
    }
   ],
   "source": [
    "#37\n",
    "a=np.zeros((3,3))\n",
    "a += np.arange(3)\n",
    "print(a)"
   ]
  },
  {
   "cell_type": "code",
   "execution_count": 123,
   "id": "7bede2f5",
   "metadata": {},
   "outputs": [
    {
     "name": "stdout",
     "output_type": "stream",
     "text": [
      "[0. 1. 2. 3. 4. 5. 6. 7. 8.]\n"
     ]
    }
   ],
   "source": [
    "#38\n",
    "def generate():\n",
    "    for x in range(9):\n",
    "        yield x\n",
    "a=np.fromiter(generate(),dtype=float,count=-1)\n",
    "print(a)"
   ]
  },
  {
   "cell_type": "code",
   "execution_count": 124,
   "id": "0576cbb3",
   "metadata": {},
   "outputs": [
    {
     "name": "stdout",
     "output_type": "stream",
     "text": [
      "[0.09090909 0.18181818 0.27272727 0.36363636 0.45454545 0.54545455\n",
      " 0.63636364 0.72727273 0.81818182 0.90909091]\n"
     ]
    }
   ],
   "source": [
    "#39\n",
    "a=np.linspace(0,1,11,endpoint=False)[1:]\n",
    "print(a)"
   ]
  },
  {
   "cell_type": "code",
   "execution_count": 125,
   "id": "170ef38d",
   "metadata": {},
   "outputs": [
    {
     "name": "stdout",
     "output_type": "stream",
     "text": [
      "[0.10951882 0.15720565 0.30468927 0.44312483 0.45376657 0.53257638\n",
      " 0.6745126  0.87441381 0.89262118 0.98296976]\n"
     ]
    }
   ],
   "source": [
    "#40\n",
    "a=np.random.random(10)\n",
    "a.sort()\n",
    "print(a)"
   ]
  },
  {
   "cell_type": "code",
   "execution_count": 126,
   "id": "21ca7204",
   "metadata": {},
   "outputs": [
    {
     "data": {
      "text/plain": [
       "36"
      ]
     },
     "execution_count": 126,
     "metadata": {},
     "output_type": "execute_result"
    }
   ],
   "source": [
    "#41\n",
    "a=np.arange(9)\n",
    "np.add.reduce(a)"
   ]
  },
  {
   "cell_type": "code",
   "execution_count": 127,
   "id": "9adb30d6",
   "metadata": {},
   "outputs": [
    {
     "name": "stdout",
     "output_type": "stream",
     "text": [
      "False\n",
      "False\n"
     ]
    }
   ],
   "source": [
    "#42\n",
    "A=np.random.randint(0,7,5)\n",
    "B=np.random.randint(0,7,5)\n",
    "equal=np.allclose(A,B)\n",
    "print(equal)\n",
    "equal=np.array_equal(A,B)\n",
    "print(equal)"
   ]
  },
  {
   "cell_type": "code",
   "execution_count": 129,
   "id": "d436552a",
   "metadata": {},
   "outputs": [
    {
     "name": "stdout",
     "output_type": "stream",
     "text": [
      "[0. 0. 0. 0. 0. 0. 0. 0. 0.]\n"
     ]
    }
   ],
   "source": [
    "#43\n",
    "a=np.zeros(9)\n",
    "a.flags.writeable=False\n",
    "print(a)"
   ]
  },
  {
   "cell_type": "code",
   "execution_count": 130,
   "id": "d4eabf92",
   "metadata": {},
   "outputs": [
    {
     "name": "stdout",
     "output_type": "stream",
     "text": [
      "[0.99600005 0.63879041 0.33740254 0.8018171  0.56618984]\n",
      "[1.09545863 0.31168874 1.56379789 0.63204595 1.45403454]\n"
     ]
    }
   ],
   "source": [
    "#44\n",
    "a=np.random.random((5,2))\n",
    "X,Y=a[:,0], a[:,1]\n",
    "R=np.sqrt(X**2+Y**2)\n",
    "T=np.arctan2(Y,X)\n",
    "print(R)\n",
    "print(T)"
   ]
  },
  {
   "cell_type": "code",
   "execution_count": 132,
   "id": "88d38793",
   "metadata": {},
   "outputs": [
    {
     "name": "stdout",
     "output_type": "stream",
     "text": [
      "[0.         0.794143   0.08364094 0.05824598 0.69354412]\n"
     ]
    }
   ],
   "source": [
    "#45\n",
    "a=np.random.random(5)\n",
    "a[a.argmax()]=0\n",
    "print(a)"
   ]
  },
  {
   "cell_type": "code",
   "execution_count": 136,
   "id": "d792d21f",
   "metadata": {},
   "outputs": [
    {
     "name": "stdout",
     "output_type": "stream",
     "text": [
      "[[(0. , 0. ) (0.5, 0. ) (1. , 0. )]\n",
      " [(0. , 0.5) (0.5, 0.5) (1. , 0.5)]\n",
      " [(0. , 1. ) (0.5, 1. ) (1. , 1. )]]\n"
     ]
    }
   ],
   "source": [
    "#46\n",
    "a=np.zeros((3,3), [('x',float),('y',float)])\n",
    "a['x'],a['y'] = np.meshgrid(np.linspace(0,1,3), np.linspace(0,1,3))\n",
    "print(a)"
   ]
  },
  {
   "cell_type": "code",
   "execution_count": 137,
   "id": "fa7030a5",
   "metadata": {},
   "outputs": [
    {
     "name": "stdout",
     "output_type": "stream",
     "text": [
      "396.03682955582303\n"
     ]
    }
   ],
   "source": [
    "#47\n",
    "X = np.arange(6)\n",
    "Y = X + 0.5\n",
    "C = 1.0/np.subtract.outer(X,Y)\n",
    "print(np.linalg.det(C))"
   ]
  },
  {
   "cell_type": "code",
   "execution_count": 138,
   "id": "b360c47e",
   "metadata": {},
   "outputs": [
    {
     "name": "stdout",
     "output_type": "stream",
     "text": [
      "-128\n",
      "127\n",
      "-2147483648\n",
      "2147483647\n",
      "-9223372036854775808\n",
      "9223372036854775807\n",
      "-3.4028235e+38\n",
      "3.4028235e+38\n",
      "1.1920929e-07\n",
      "-1.7976931348623157e+308\n",
      "1.7976931348623157e+308\n",
      "2.220446049250313e-16\n"
     ]
    }
   ],
   "source": [
    "#48\n",
    "for dtype in [np.int8,np.int32,np.int64]:\n",
    "   print(np.iinfo(dtype).min)\n",
    "   print(np.iinfo(dtype).max)\n",
    "for dtype in [np.float32,np.float64]:\n",
    "   print(np.finfo(dtype).min)\n",
    "   print(np.finfo(dtype).max)\n",
    "   print(np.finfo(dtype).eps)"
   ]
  },
  {
   "cell_type": "code",
   "execution_count": 143,
   "id": "0a1a724a",
   "metadata": {},
   "outputs": [
    {
     "name": "stdout",
     "output_type": "stream",
     "text": [
      "[[0. 0. 0. 0. 0.]\n",
      " [0. 0. 0. 0. 0.]\n",
      " [0. 0. 0. 0. 0.]\n",
      " [0. 0. 0. 0. 0.]\n",
      " [0. 0. 0. 0. 0.]]\n"
     ]
    }
   ],
   "source": [
    "#49\n",
    "a=np.zeros((5,5))\n",
    "np.set_printoptions\n",
    "print(a)"
   ]
  },
  {
   "cell_type": "code",
   "execution_count": 144,
   "id": "7140d292",
   "metadata": {},
   "outputs": [
    {
     "name": "stdout",
     "output_type": "stream",
     "text": [
      "91\n"
     ]
    }
   ],
   "source": [
    "#50\n",
    "Z=np.arange(100)\n",
    "v=np.random.uniform(0,100)\n",
    "index=(np.abs(Z-v)).argmin()\n",
    "print(Z[index])"
   ]
  },
  {
   "cell_type": "code",
   "execution_count": 147,
   "id": "e290143f",
   "metadata": {},
   "outputs": [
    {
     "name": "stdout",
     "output_type": "stream",
     "text": [
      "[((0., 0.), (0., 0., 0.)) ((0., 0.), (0., 0., 0.))\n",
      " ((0., 0.), (0., 0., 0.)) ((0., 0.), (0., 0., 0.))\n",
      " ((0., 0.), (0., 0., 0.)) ((0., 0.), (0., 0., 0.))]\n"
     ]
    },
    {
     "name": "stderr",
     "output_type": "stream",
     "text": [
      "<ipython-input-147-0543cb56f8aa>:2: FutureWarning: Passing (type, 1) or '1type' as a synonym of type is deprecated; in a future version of numpy, it will be understood as (type, (1,)) / '(1,)type'.\n",
      "  a=np.zeros(6,[('position',[('x',float,1),\n"
     ]
    }
   ],
   "source": [
    "#51\n",
    "a=np.zeros(6,[('position',[('x',float,1),\n",
    "                                  ('y',float,1)]),\n",
    "              ('color',   [('r',float,1),\n",
    "                                  ('g',float,1),\n",
    "                                  ('b',float,1)])])\n",
    "print(a)"
   ]
  },
  {
   "cell_type": "code",
   "execution_count": 33,
   "id": "cb1a1ff2",
   "metadata": {},
   "outputs": [
    {
     "name": "stdout",
     "output_type": "stream",
     "text": [
      "[[0.         0.12424433 0.3760532  0.84332137 0.40299377 0.77742618\n",
      "  0.5928634  0.73408499 0.83795986 0.65955705]\n",
      " [0.12424433 0.         0.44261199 0.96656245 0.51084735 0.89441486\n",
      "  0.69358822 0.85134081 0.96213126 0.78361097]\n",
      " [0.3760532  0.44261199 0.         0.81744762 0.59348203 0.84245188\n",
      "  0.77757983 0.80200782 0.747907   0.62982592]\n",
      " [0.84332137 0.96656245 0.81744762 0.         0.51297495 0.19959991\n",
      "  0.45746588 0.20953883 0.14526801 0.19226618]\n",
      " [0.40299377 0.51084735 0.59348203 0.51297495 0.         0.39445428\n",
      "  0.19521929 0.35338122 0.56405159 0.37292296]\n",
      " [0.77742618 0.89441486 0.84245188 0.19959991 0.39445428 0.\n",
      "  0.28182389 0.04353718 0.33112345 0.249957  ]\n",
      " [0.5928634  0.69358822 0.77757983 0.45746588 0.19521929 0.28182389\n",
      "  0.         0.25349828 0.55445652 0.38968903]\n",
      " [0.73408499 0.85134081 0.80200782 0.20953883 0.35338122 0.04353718\n",
      "  0.25349828 0.         0.32897154 0.22324018]\n",
      " [0.83795986 0.96213126 0.747907   0.14526801 0.56405159 0.33112345\n",
      "  0.55445652 0.32897154 0.         0.19243572]\n",
      " [0.65955705 0.78361097 0.62982592 0.19226618 0.37292296 0.249957\n",
      "  0.38968903 0.22324018 0.19243572 0.        ]]\n"
     ]
    }
   ],
   "source": [
    "#52\n",
    "Z=np.random.random((10,2))\n",
    "X,Y=np.atleast_2d(Z[:,0], Z[:,1])\n",
    "D=np.sqrt( (X-X.T)**2 + (Y-Y.T)**2)\n",
    "print(D)"
   ]
  },
  {
   "cell_type": "code",
   "execution_count": 151,
   "id": "07de8677",
   "metadata": {},
   "outputs": [
    {
     "name": "stdout",
     "output_type": "stream",
     "text": [
      "[ 0  1  2  3  4  5  6  7  8  9 10 11 12 13 14 15 16 17 18 19 20]\n"
     ]
    }
   ],
   "source": [
    "#53\n",
    "a=np.arange(21,dtype=np.float32)\n",
    "a=a.astype(np.int32, copy=False)\n",
    "print(a)"
   ]
  },
  {
   "cell_type": "code",
   "execution_count": 6,
   "id": "f441b3a0",
   "metadata": {},
   "outputs": [
    {
     "name": "stdout",
     "output_type": "stream",
     "text": [
      "[[ 1  2  3  4  5]\n",
      " [ 6 -1 -1  7  8]\n",
      " [-1 -1  9 10 11]]\n"
     ]
    },
    {
     "name": "stderr",
     "output_type": "stream",
     "text": [
      "<ipython-input-6-de28366c81d4>:7: DeprecationWarning: `np.int` is a deprecated alias for the builtin `int`. To silence this warning, use `int` by itself. Doing this will not modify any behavior and is safe. When replacing `np.int`, you may wish to use e.g. `np.int64` or `np.int32` to specify the precision. If you wish to review your current use, check the release note link for additional information.\n",
      "Deprecated in NumPy 1.20; for more details and guidance: https://numpy.org/devdocs/release/1.20.0-notes.html#deprecations\n",
      "  a=np.genfromtxt(s,delimiter=\",\",dtype=np.int)\n"
     ]
    }
   ],
   "source": [
    "#54\n",
    "import numpy as np\n",
    "from io import StringIO\n",
    "s=StringIO(\"\"\"1, 2, 3, 4, 5\\n\n",
    "              6,  ,  , 7, 8\\n\n",
    "               ,  , 9,10,11\\n\"\"\")\n",
    "a=np.genfromtxt(s,delimiter=\",\",dtype=np.int)\n",
    "print(a)"
   ]
  },
  {
   "cell_type": "code",
   "execution_count": 10,
   "id": "7dde2fe7",
   "metadata": {},
   "outputs": [
    {
     "name": "stdout",
     "output_type": "stream",
     "text": [
      "(0, 0) 0\n",
      "(0, 1) 1\n",
      "(1, 0) 2\n",
      "(1, 1) 3\n",
      "(0, 0) 0\n",
      "(0, 1) 1\n",
      "(1, 0) 2\n",
      "(1, 1) 3\n"
     ]
    }
   ],
   "source": [
    "#55\n",
    "a=np.arange(4).reshape(2,2)\n",
    "for index,value in np.ndenumerate(a):\n",
    "    print(index,value)\n",
    "for index in np.ndindex(a.shape):\n",
    "    print(index,a[index])"
   ]
  },
  {
   "cell_type": "code",
   "execution_count": 13,
   "id": "14c277a7",
   "metadata": {},
   "outputs": [
    {
     "name": "stdout",
     "output_type": "stream",
     "text": [
      "[[0.36787944 0.44822088 0.51979489 0.57375342 0.60279818 0.60279818\n",
      "  0.57375342 0.51979489 0.44822088 0.36787944]\n",
      " [0.44822088 0.54610814 0.63331324 0.69905581 0.73444367 0.73444367\n",
      "  0.69905581 0.63331324 0.54610814 0.44822088]\n",
      " [0.51979489 0.63331324 0.73444367 0.81068432 0.85172308 0.85172308\n",
      "  0.81068432 0.73444367 0.63331324 0.51979489]\n",
      " [0.57375342 0.69905581 0.81068432 0.89483932 0.9401382  0.9401382\n",
      "  0.89483932 0.81068432 0.69905581 0.57375342]\n",
      " [0.60279818 0.73444367 0.85172308 0.9401382  0.98773022 0.98773022\n",
      "  0.9401382  0.85172308 0.73444367 0.60279818]\n",
      " [0.60279818 0.73444367 0.85172308 0.9401382  0.98773022 0.98773022\n",
      "  0.9401382  0.85172308 0.73444367 0.60279818]\n",
      " [0.57375342 0.69905581 0.81068432 0.89483932 0.9401382  0.9401382\n",
      "  0.89483932 0.81068432 0.69905581 0.57375342]\n",
      " [0.51979489 0.63331324 0.73444367 0.81068432 0.85172308 0.85172308\n",
      "  0.81068432 0.73444367 0.63331324 0.51979489]\n",
      " [0.44822088 0.54610814 0.63331324 0.69905581 0.73444367 0.73444367\n",
      "  0.69905581 0.63331324 0.54610814 0.44822088]\n",
      " [0.36787944 0.44822088 0.51979489 0.57375342 0.60279818 0.60279818\n",
      "  0.57375342 0.51979489 0.44822088 0.36787944]]\n"
     ]
    }
   ],
   "source": [
    "#56\n",
    "X,Y=np.meshgrid(np.linspace(-1,1,10), np.linspace(-1,1,10))\n",
    "D = np.sqrt(X*X+Y*Y)\n",
    "sigma,mu=1.0,0.0\n",
    "G=np.exp(-((D-mu)**2/(2.0*sigma**2)))\n",
    "print(G)"
   ]
  },
  {
   "cell_type": "code",
   "execution_count": 5,
   "id": "8981c6e5",
   "metadata": {},
   "outputs": [
    {
     "name": "stdout",
     "output_type": "stream",
     "text": [
      "[[0. 0. 1. 1. 0. 0.]\n",
      " [0. 0. 0. 0. 0. 1.]\n",
      " [0. 0. 0. 0. 0. 0.]\n",
      " [1. 1. 1. 0. 0. 0.]\n",
      " [0. 0. 0. 0. 0. 0.]\n",
      " [0. 0. 1. 1. 1. 0.]]\n"
     ]
    }
   ],
   "source": [
    "#57\n",
    "import numpy as np\n",
    "n=6\n",
    "e=9\n",
    "a=np.zeros((n,n))\n",
    "np.put(a,np.random.choice(range(n*n),e,replace=False),1)\n",
    "print(a)"
   ]
  },
  {
   "cell_type": "code",
   "execution_count": 7,
   "id": "59d22f0e",
   "metadata": {},
   "outputs": [
    {
     "name": "stdout",
     "output_type": "stream",
     "text": [
      "[[-0.15166144  0.22053074 -0.01959001 -0.25669687  0.20741758]\n",
      " [-0.18576361  0.05142511 -0.22727529 -0.09884205  0.46045582]\n",
      " [ 0.19081914  0.44146616 -0.16727083 -0.17645462 -0.28855985]\n",
      " [ 0.27221312  0.15350587 -0.41898033 -0.08045211  0.07371344]\n",
      " [ 0.11105082  0.2920225  -0.42523448  0.43555612 -0.41339495]]\n"
     ]
    }
   ],
   "source": [
    "#58\n",
    "X=np.random.rand(5,5)\n",
    "Y=X-X.mean(axis=1,keepdims=True)\n",
    "Y=X-X.mean(axis=1).reshape(-1,1)\n",
    "print(Y)"
   ]
  },
  {
   "cell_type": "code",
   "execution_count": 10,
   "id": "da868d5a",
   "metadata": {},
   "outputs": [
    {
     "name": "stdout",
     "output_type": "stream",
     "text": [
      "[[7 2 7]\n",
      " [1 0 1]\n",
      " [2 4 0]]\n",
      "[[1 0 1]\n",
      " [7 2 7]\n",
      " [2 4 0]]\n"
     ]
    }
   ],
   "source": [
    "#59\n",
    "a=np.random.randint(0,9,(3,3))\n",
    "print(a)\n",
    "print(a[a[:,1].argsort()])"
   ]
  },
  {
   "cell_type": "code",
   "execution_count": 13,
   "id": "3124b592",
   "metadata": {},
   "outputs": [
    {
     "name": "stdout",
     "output_type": "stream",
     "text": [
      "False\n"
     ]
    }
   ],
   "source": [
    "#60\n",
    "a=np.random.randint(0,7,(3,5))\n",
    "print((~a.any(axis=0)).any())"
   ]
  },
  {
   "cell_type": "code",
   "execution_count": 15,
   "id": "ed515d80",
   "metadata": {},
   "outputs": [
    {
     "name": "stdout",
     "output_type": "stream",
     "text": [
      "0.522850556422883\n"
     ]
    }
   ],
   "source": [
    "#61\n",
    "A=np.random.uniform(0,1,9)\n",
    "a=0.5\n",
    "m=A.flat[np.abs(A-a).argmin()]\n",
    "print(m)"
   ]
  },
  {
   "cell_type": "code",
   "execution_count": 16,
   "id": "fd900759",
   "metadata": {},
   "outputs": [
    {
     "name": "stdout",
     "output_type": "stream",
     "text": [
      "[[0 1 2]\n",
      " [1 2 3]\n",
      " [2 3 4]]\n"
     ]
    }
   ],
   "source": [
    "#62\n",
    "A=np.arange(3).reshape(3,1)\n",
    "B=np.arange(3).reshape(1,3)\n",
    "it=np.nditer([A,B,None])\n",
    "for x,y,z in it: z[...] = x + y\n",
    "print(it.operands[2])"
   ]
  },
  {
   "cell_type": "code",
   "execution_count": 18,
   "id": "b3e48833",
   "metadata": {},
   "outputs": [
    {
     "name": "stdout",
     "output_type": "stream",
     "text": [
      "range_21\n"
     ]
    }
   ],
   "source": [
    "#63\n",
    "class NamedArray(np.ndarray):\n",
    "    def __new__(cls, array, name=\"no name\"):\n",
    "        obj = np.asarray(array).view(cls)\n",
    "        obj.name = name\n",
    "        return obj\n",
    "    def __array_finalize__(self, obj):\n",
    "        if obj is None: return\n",
    "        self.info = getattr(obj, 'name', \"no name\")\n",
    " \n",
    "a=NamedArray(np.arange(21), \"range_21\")\n",
    "print(a.name)"
   ]
  },
  {
   "cell_type": "code",
   "execution_count": 21,
   "id": "dae660e2",
   "metadata": {},
   "outputs": [
    {
     "name": "stdout",
     "output_type": "stream",
     "text": [
      "[3. 1. 3. 1. 1. 2. 2. 1. 2.]\n",
      "[5. 1. 5. 1. 1. 3. 3. 1. 3.]\n"
     ]
    }
   ],
   "source": [
    "#64\n",
    "a=np.ones(9)\n",
    "I=np.random.randint(0,len(a),7)\n",
    "a +=np.bincount(I,minlength=len(a))\n",
    "print(a)\n",
    "np.add.at(a, I, 1)\n",
    "print(a)"
   ]
  },
  {
   "cell_type": "code",
   "execution_count": 23,
   "id": "a6a80135",
   "metadata": {},
   "outputs": [
    {
     "name": "stdout",
     "output_type": "stream",
     "text": [
      "[0. 7. 5. 2. 0. 0. 0. 3. 0. 0. 0. 4.]\n"
     ]
    }
   ],
   "source": [
    "#65\n",
    "X = [1,2,3,4,5,6]\n",
    "I = [1,3,7,11,2,1]\n",
    "F = np.bincount(I,X)\n",
    "print(F)"
   ]
  },
  {
   "cell_type": "code",
   "execution_count": 27,
   "id": "01801820",
   "metadata": {},
   "outputs": [
    {
     "name": "stdout",
     "output_type": "stream",
     "text": [
      "8\n"
     ]
    }
   ],
   "source": [
    "#66\n",
    "w,h = 7,7\n",
    "I = np.random.randint(0,2,(h,w,3)).astype(np.ubyte)\n",
    "F = I[...,0]*(256*256) + I[...,1]*256 +I[...,2]\n",
    "n = len(np.unique(F))\n",
    "print(n)"
   ]
  },
  {
   "cell_type": "code",
   "execution_count": 30,
   "id": "dfba3962",
   "metadata": {},
   "outputs": [
    {
     "name": "stdout",
     "output_type": "stream",
     "text": [
      "[[36 28 40]\n",
      " [21 33 29]]\n",
      "[[36 28 40]\n",
      " [21 33 29]]\n"
     ]
    }
   ],
   "source": [
    "#67\n",
    "A = np.random.randint(0,6,(2,3,3,4))\n",
    "sum = A.sum(axis=(-2,-1))\n",
    "print(sum)"
   ]
  },
  {
   "cell_type": "code",
   "execution_count": 32,
   "id": "dc61c1f2",
   "metadata": {},
   "outputs": [
    {
     "name": "stdout",
     "output_type": "stream",
     "text": [
      "[0.32346316 0.76090611 0.565437   0.34095791 0.31861756 0.60689744\n",
      " 0.40640629 0.44228721 0.54550709 0.37001264]\n"
     ]
    }
   ],
   "source": [
    "#68\n",
    "D = np.random.uniform(0,1,50)\n",
    "S = np.random.randint(0,10,50)\n",
    "D_sums = np.bincount(S, weights=D)\n",
    "D_counts = np.bincount(S)\n",
    "D_means = D_sums / D_counts\n",
    "print(D_means)"
   ]
  },
  {
   "cell_type": "code",
   "execution_count": 34,
   "id": "72585150",
   "metadata": {},
   "outputs": [
    {
     "data": {
      "text/plain": [
       "array([0.75956858, 0.65122749, 1.28478851])"
      ]
     },
     "execution_count": 34,
     "metadata": {},
     "output_type": "execute_result"
    }
   ],
   "source": [
    "#69\n",
    "A=np.random.uniform(0,1,(3,3))\n",
    "B=np.random.uniform(0,1,(3,3))\n",
    "np.diag(np.dot(A,B))"
   ]
  },
  {
   "cell_type": "code",
   "execution_count": 35,
   "id": "6f7b953d",
   "metadata": {},
   "outputs": [
    {
     "name": "stdout",
     "output_type": "stream",
     "text": [
      "[1. 0. 0. 0. 2. 0. 0. 0. 3. 0. 0. 0. 4. 0. 0. 0. 5.]\n"
     ]
    }
   ],
   "source": [
    "#70\n",
    "Z = np.array([1,2,3,4,5])\n",
    "nz = 3\n",
    "Z0 = np.zeros(len(Z) + (len(Z)-1)*(nz))\n",
    "Z0[::nz+1] = Z\n",
    "print(Z0)"
   ]
  },
  {
   "cell_type": "code",
   "execution_count": 36,
   "id": "dba902a4",
   "metadata": {},
   "outputs": [
    {
     "name": "stdout",
     "output_type": "stream",
     "text": [
      "[[[2. 2. 2.]\n",
      "  [2. 2. 2.]\n",
      "  [2. 2. 2.]\n",
      "  [2. 2. 2.]\n",
      "  [2. 2. 2.]]\n",
      "\n",
      " [[2. 2. 2.]\n",
      "  [2. 2. 2.]\n",
      "  [2. 2. 2.]\n",
      "  [2. 2. 2.]\n",
      "  [2. 2. 2.]]\n",
      "\n",
      " [[2. 2. 2.]\n",
      "  [2. 2. 2.]\n",
      "  [2. 2. 2.]\n",
      "  [2. 2. 2.]\n",
      "  [2. 2. 2.]]\n",
      "\n",
      " [[2. 2. 2.]\n",
      "  [2. 2. 2.]\n",
      "  [2. 2. 2.]\n",
      "  [2. 2. 2.]\n",
      "  [2. 2. 2.]]\n",
      "\n",
      " [[2. 2. 2.]\n",
      "  [2. 2. 2.]\n",
      "  [2. 2. 2.]\n",
      "  [2. 2. 2.]\n",
      "  [2. 2. 2.]]]\n"
     ]
    }
   ],
   "source": [
    "#71\n",
    "A = np.ones((5,5,3))\n",
    "B = 2*np.ones((5,5))\n",
    "print(A * B[:,:,None])"
   ]
  },
  {
   "cell_type": "code",
   "execution_count": 38,
   "id": "05bf5f6a",
   "metadata": {},
   "outputs": [
    {
     "name": "stdout",
     "output_type": "stream",
     "text": [
      "[[ 4  5  6  7]\n",
      " [ 0  1  2  3]\n",
      " [ 8  9 10 11]\n",
      " [12 13 14 15]]\n"
     ]
    }
   ],
   "source": [
    "#72\n",
    "a=np.arange(16).reshape(4,4)\n",
    "a[[0,1]]=a[[1,0]]\n",
    "print(a)"
   ]
  },
  {
   "cell_type": "code",
   "execution_count": 39,
   "id": "eaf417de",
   "metadata": {},
   "outputs": [
    {
     "name": "stdout",
     "output_type": "stream",
     "text": [
      "[( 5, 83) ( 5, 95) ( 7, 16) ( 7, 93) ( 8, 50) ( 8, 80) ( 8, 92) ( 8, 93)\n",
      " (12, 53) (12, 58) (16, 93) (17, 59) (17, 71) (21, 50) (21, 53) (42, 59)\n",
      " (42, 66) (50, 53) (50, 80) (52, 67) (52, 85) (53, 58) (59, 66) (59, 71)\n",
      " (67, 85) (68, 85) (68, 88) (83, 95) (85, 88) (92, 93)]\n"
     ]
    }
   ],
   "source": [
    "#73\n",
    "faces = np.random.randint(0,100,(10,3))\n",
    "F = np.roll(faces.repeat(2,axis=1),-1,axis=1)\n",
    "F = F.reshape(len(F)*3,2)\n",
    "F = np.sort(F,axis=1)\n",
    "G = F.view( dtype=[('p0',F.dtype),('p1',F.dtype)] )\n",
    "G = np.unique(G)\n",
    "print(G)"
   ]
  },
  {
   "cell_type": "code",
   "execution_count": 40,
   "id": "89ed5346",
   "metadata": {},
   "outputs": [
    {
     "name": "stdout",
     "output_type": "stream",
     "text": [
      "[1 1 2 3 4 4 6]\n"
     ]
    }
   ],
   "source": [
    "#74\n",
    "C = np.bincount([1,1,2,3,4,4,6])\n",
    "A = np.repeat(np.arange(len(C)), C)\n",
    "print(A)"
   ]
  },
  {
   "cell_type": "code",
   "execution_count": 43,
   "id": "6a6d6b14",
   "metadata": {},
   "outputs": [
    {
     "name": "stdout",
     "output_type": "stream",
     "text": [
      "[1. 2. 3. 4. 5. 6. 7. 8.]\n"
     ]
    }
   ],
   "source": [
    "#75\n",
    "def moving_average(a,n=2):\n",
    "    ret=np.cumsum(a,dtype=float)\n",
    "    ret[n:]=ret[n:]-ret[:-n]\n",
    "    return ret[n-1:]/n\n",
    "Z=np.arange(10)\n",
    "print(moving_average(Z,n=3))"
   ]
  },
  {
   "cell_type": "code",
   "execution_count": 46,
   "id": "a494dc7b",
   "metadata": {},
   "outputs": [
    {
     "name": "stdout",
     "output_type": "stream",
     "text": [
      "[[0 1 2]\n",
      " [1 2 3]\n",
      " [2 3 4]\n",
      " [3 4 5]\n",
      " [4 5 6]\n",
      " [5 6 7]]\n"
     ]
    }
   ],
   "source": [
    "#76\n",
    "from numpy.lib import stride_tricks\n",
    " \n",
    "def rolling(a,window):\n",
    "    shape=(a.size-window+1,window)\n",
    "    strides=(a.itemsize,a.itemsize)\n",
    "    return stride_tricks.as_strided(a,shape=shape,strides=strides)\n",
    "Z = rolling(np.arange(8), 3)\n",
    "print(Z)"
   ]
  },
  {
   "cell_type": "code",
   "execution_count": 51,
   "id": "80a4d06e",
   "metadata": {},
   "outputs": [
    {
     "data": {
      "text/plain": [
       "array([ 0.46635947,  0.18950652, -0.67756312, -0.49761852, -0.67347606,\n",
       "       -0.44470611,  0.21705122, -0.3458333 , -0.43267078, -0.83053967,\n",
       "        0.41035265, -0.91799062,  0.08627198, -0.64142721, -0.56017523,\n",
       "       -0.3896434 , -0.1133987 ,  0.07755076,  0.78051045,  0.92079367])"
      ]
     },
     "execution_count": 51,
     "metadata": {},
     "output_type": "execute_result"
    }
   ],
   "source": [
    "#77\n",
    "Z = np.random.randint(0,2,20)\n",
    "np.logical_not(Z, out=Z)\n",
    "Z = np.random.uniform(-1.0,1.0,20)\n",
    "np.negative(Z, out=Z)"
   ]
  },
  {
   "cell_type": "code",
   "execution_count": 54,
   "id": "0b509ae1",
   "metadata": {},
   "outputs": [
    {
     "name": "stdout",
     "output_type": "stream",
     "text": [
      "[ 3.42954294  4.17355052  3.26333168  0.88091312  9.28784352  4.2633146\n",
      "  5.30542969  5.47769066 17.12676568  6.19442664]\n"
     ]
    }
   ],
   "source": [
    "#78\n",
    "\n",
    "def distance(P0, P1, p):\n",
    "    T=P1-P0\n",
    "    L=(T**2).sum(axis=1)\n",
    "    U=-((P0[:,0]-p[...,0])*T[:,0]+(P0[:,1]-p[...,1])*T[:,1])/L\n",
    "    U = U.reshape(len(U),1)\n",
    "    D = P0 + U*T - p\n",
    "    return np.sqrt((D**2).sum(axis=1))\n",
    " \n",
    "P0 = np.random.uniform(-10,10,(10,2))\n",
    "P1 = np.random.uniform(-10,10,(10,2))\n",
    "p  = np.random.uniform(-10,10,(1,2))\n",
    "print(distance(P0, P1, p))"
   ]
  },
  {
   "cell_type": "code",
   "execution_count": 58,
   "id": "124866ba",
   "metadata": {},
   "outputs": [
    {
     "name": "stdout",
     "output_type": "stream",
     "text": [
      "[[11.0825454  10.52771164  5.08408517  4.57764855  5.52829104  8.6502615\n",
      "   4.0927917   0.64220334 11.84593143 12.49373471]\n",
      " [13.49392677  1.78508141  2.71776501  8.59488974  7.68239528  2.18522931\n",
      "   0.93697937  8.79854447  2.48773216  0.37176538]\n",
      " [22.35820446  2.2357538  13.03045079 16.6947093   1.31743103  6.99294148\n",
      "  11.37107692 12.97367787 12.39566886  0.3110457 ]\n",
      " [15.42013315  9.18063041  9.65248523  8.70878464  7.26200618 11.90935186\n",
      "   8.64458971  2.16832986 15.58029776 11.62173104]\n",
      " [10.04682781  0.07777906  0.57661394  5.19396553  8.08898556  3.90868128\n",
      "   2.2907443   6.02520161  0.30345979  1.16951506]]\n"
     ]
    }
   ],
   "source": [
    "#79\n",
    "P0 =np.random.uniform(-10,10,(10,2))\n",
    "P1 =np.random.uniform(-10,10,(10,2))\n",
    "p = np.random.uniform(-10,10,(5,2))\n",
    "print(np.array([distance(P0,P1,p_i) for p_i in p]))"
   ]
  },
  {
   "cell_type": "code",
   "execution_count": 60,
   "id": "6fccc5e8",
   "metadata": {},
   "outputs": [],
   "source": [
    "#80\n",
    "a=np.random.randint(0,10,(8,8))\n",
    "shape=(5,5)\n",
    "fill=0\n",
    "position=(1,1)\n"
   ]
  },
  {
   "cell_type": "code",
   "execution_count": 63,
   "id": "39b99c46",
   "metadata": {},
   "outputs": [
    {
     "name": "stdout",
     "output_type": "stream",
     "text": [
      "[[ 1  2  3  4]\n",
      " [ 2  3  4  5]\n",
      " [ 3  4  5  6]\n",
      " [ 4  5  6  7]\n",
      " [ 5  6  7  8]\n",
      " [ 6  7  8  9]\n",
      " [ 7  8  9 10]\n",
      " [ 8  9 10 11]\n",
      " [ 9 10 11 12]\n",
      " [10 11 12 13]\n",
      " [11 12 13 14]]\n"
     ]
    }
   ],
   "source": [
    "#81\n",
    "Z=np.arange(1,15,dtype=np.uint32)\n",
    "R=stride_tricks.as_strided(Z,(11,4),(4,4))\n",
    "print(R)"
   ]
  },
  {
   "cell_type": "code",
   "execution_count": 65,
   "id": "f0618ad3",
   "metadata": {},
   "outputs": [
    {
     "name": "stdout",
     "output_type": "stream",
     "text": [
      "9\n"
     ]
    }
   ],
   "source": [
    "#82\n",
    "Z = np.random.uniform(0,1,(9,9))\n",
    "U, S, V = np.linalg.svd(Z) # Singular Value Decomposition\n",
    "rank = np.sum(S > 1e-10)\n",
    "print(rank)"
   ]
  },
  {
   "cell_type": "code",
   "execution_count": 67,
   "id": "89ad8250",
   "metadata": {},
   "outputs": [
    {
     "name": "stdout",
     "output_type": "stream",
     "text": [
      "5\n"
     ]
    }
   ],
   "source": [
    "#83\n",
    "Z = np.random.randint(0,10,10)\n",
    "print(np.bincount(Z).argmax())"
   ]
  },
  {
   "cell_type": "code",
   "execution_count": 68,
   "id": "815f10f3",
   "metadata": {},
   "outputs": [
    {
     "name": "stdout",
     "output_type": "stream",
     "text": [
      "[[[[4 3 4]\n",
      "   [2 1 1]\n",
      "   [3 4 0]]\n",
      "\n",
      "  [[3 4 2]\n",
      "   [1 1 3]\n",
      "   [4 0 1]]\n",
      "\n",
      "  [[4 2 0]\n",
      "   [1 3 3]\n",
      "   [0 1 4]]\n",
      "\n",
      "  [[2 0 2]\n",
      "   [3 3 2]\n",
      "   [1 4 3]]\n",
      "\n",
      "  [[0 2 0]\n",
      "   [3 2 2]\n",
      "   [4 3 2]]\n",
      "\n",
      "  [[2 0 3]\n",
      "   [2 2 2]\n",
      "   [3 2 2]]\n",
      "\n",
      "  [[0 3 2]\n",
      "   [2 2 1]\n",
      "   [2 2 2]]\n",
      "\n",
      "  [[3 2 1]\n",
      "   [2 1 2]\n",
      "   [2 2 0]]]\n",
      "\n",
      "\n",
      " [[[2 1 1]\n",
      "   [3 4 0]\n",
      "   [2 2 1]]\n",
      "\n",
      "  [[1 1 3]\n",
      "   [4 0 1]\n",
      "   [2 1 1]]\n",
      "\n",
      "  [[1 3 3]\n",
      "   [0 1 4]\n",
      "   [1 1 4]]\n",
      "\n",
      "  [[3 3 2]\n",
      "   [1 4 3]\n",
      "   [1 4 3]]\n",
      "\n",
      "  [[3 2 2]\n",
      "   [4 3 2]\n",
      "   [4 3 2]]\n",
      "\n",
      "  [[2 2 2]\n",
      "   [3 2 2]\n",
      "   [3 2 1]]\n",
      "\n",
      "  [[2 2 1]\n",
      "   [2 2 2]\n",
      "   [2 1 0]]\n",
      "\n",
      "  [[2 1 2]\n",
      "   [2 2 0]\n",
      "   [1 0 2]]]\n",
      "\n",
      "\n",
      " [[[3 4 0]\n",
      "   [2 2 1]\n",
      "   [0 2 0]]\n",
      "\n",
      "  [[4 0 1]\n",
      "   [2 1 1]\n",
      "   [2 0 4]]\n",
      "\n",
      "  [[0 1 4]\n",
      "   [1 1 4]\n",
      "   [0 4 4]]\n",
      "\n",
      "  [[1 4 3]\n",
      "   [1 4 3]\n",
      "   [4 4 3]]\n",
      "\n",
      "  [[4 3 2]\n",
      "   [4 3 2]\n",
      "   [4 3 0]]\n",
      "\n",
      "  [[3 2 2]\n",
      "   [3 2 1]\n",
      "   [3 0 4]]\n",
      "\n",
      "  [[2 2 2]\n",
      "   [2 1 0]\n",
      "   [0 4 1]]\n",
      "\n",
      "  [[2 2 0]\n",
      "   [1 0 2]\n",
      "   [4 1 1]]]\n",
      "\n",
      "\n",
      " [[[2 2 1]\n",
      "   [0 2 0]\n",
      "   [4 3 0]]\n",
      "\n",
      "  [[2 1 1]\n",
      "   [2 0 4]\n",
      "   [3 0 2]]\n",
      "\n",
      "  [[1 1 4]\n",
      "   [0 4 4]\n",
      "   [0 2 3]]\n",
      "\n",
      "  [[1 4 3]\n",
      "   [4 4 3]\n",
      "   [2 3 2]]\n",
      "\n",
      "  [[4 3 2]\n",
      "   [4 3 0]\n",
      "   [3 2 3]]\n",
      "\n",
      "  [[3 2 1]\n",
      "   [3 0 4]\n",
      "   [2 3 1]]\n",
      "\n",
      "  [[2 1 0]\n",
      "   [0 4 1]\n",
      "   [3 1 1]]\n",
      "\n",
      "  [[1 0 2]\n",
      "   [4 1 1]\n",
      "   [1 1 0]]]\n",
      "\n",
      "\n",
      " [[[0 2 0]\n",
      "   [4 3 0]\n",
      "   [0 0 2]]\n",
      "\n",
      "  [[2 0 4]\n",
      "   [3 0 2]\n",
      "   [0 2 0]]\n",
      "\n",
      "  [[0 4 4]\n",
      "   [0 2 3]\n",
      "   [2 0 3]]\n",
      "\n",
      "  [[4 4 3]\n",
      "   [2 3 2]\n",
      "   [0 3 0]]\n",
      "\n",
      "  [[4 3 0]\n",
      "   [3 2 3]\n",
      "   [3 0 3]]\n",
      "\n",
      "  [[3 0 4]\n",
      "   [2 3 1]\n",
      "   [0 3 0]]\n",
      "\n",
      "  [[0 4 1]\n",
      "   [3 1 1]\n",
      "   [3 0 1]]\n",
      "\n",
      "  [[4 1 1]\n",
      "   [1 1 0]\n",
      "   [0 1 0]]]\n",
      "\n",
      "\n",
      " [[[4 3 0]\n",
      "   [0 0 2]\n",
      "   [0 4 0]]\n",
      "\n",
      "  [[3 0 2]\n",
      "   [0 2 0]\n",
      "   [4 0 3]]\n",
      "\n",
      "  [[0 2 3]\n",
      "   [2 0 3]\n",
      "   [0 3 3]]\n",
      "\n",
      "  [[2 3 2]\n",
      "   [0 3 0]\n",
      "   [3 3 3]]\n",
      "\n",
      "  [[3 2 3]\n",
      "   [3 0 3]\n",
      "   [3 3 4]]\n",
      "\n",
      "  [[2 3 1]\n",
      "   [0 3 0]\n",
      "   [3 4 0]]\n",
      "\n",
      "  [[3 1 1]\n",
      "   [3 0 1]\n",
      "   [4 0 3]]\n",
      "\n",
      "  [[1 1 0]\n",
      "   [0 1 0]\n",
      "   [0 3 2]]]\n",
      "\n",
      "\n",
      " [[[0 0 2]\n",
      "   [0 4 0]\n",
      "   [2 1 1]]\n",
      "\n",
      "  [[0 2 0]\n",
      "   [4 0 3]\n",
      "   [1 1 1]]\n",
      "\n",
      "  [[2 0 3]\n",
      "   [0 3 3]\n",
      "   [1 1 4]]\n",
      "\n",
      "  [[0 3 0]\n",
      "   [3 3 3]\n",
      "   [1 4 0]]\n",
      "\n",
      "  [[3 0 3]\n",
      "   [3 3 4]\n",
      "   [4 0 1]]\n",
      "\n",
      "  [[0 3 0]\n",
      "   [3 4 0]\n",
      "   [0 1 4]]\n",
      "\n",
      "  [[3 0 1]\n",
      "   [4 0 3]\n",
      "   [1 4 1]]\n",
      "\n",
      "  [[0 1 0]\n",
      "   [0 3 2]\n",
      "   [4 1 2]]]\n",
      "\n",
      "\n",
      " [[[0 4 0]\n",
      "   [2 1 1]\n",
      "   [2 0 0]]\n",
      "\n",
      "  [[4 0 3]\n",
      "   [1 1 1]\n",
      "   [0 0 2]]\n",
      "\n",
      "  [[0 3 3]\n",
      "   [1 1 4]\n",
      "   [0 2 2]]\n",
      "\n",
      "  [[3 3 3]\n",
      "   [1 4 0]\n",
      "   [2 2 2]]\n",
      "\n",
      "  [[3 3 4]\n",
      "   [4 0 1]\n",
      "   [2 2 2]]\n",
      "\n",
      "  [[3 4 0]\n",
      "   [0 1 4]\n",
      "   [2 2 0]]\n",
      "\n",
      "  [[4 0 3]\n",
      "   [1 4 1]\n",
      "   [2 0 3]]\n",
      "\n",
      "  [[0 3 2]\n",
      "   [4 1 2]\n",
      "   [0 3 0]]]]\n"
     ]
    }
   ],
   "source": [
    "#84\n",
    "Z = np.random.randint(0,5,(10,10))\n",
    "n = 3\n",
    "i = 1 + (Z.shape[0]-3)\n",
    "j = 1 + (Z.shape[1]-3)\n",
    "C=stride_tricks.as_strided(Z,shape=(i,j,n,n),strides=Z.strides+Z.strides)\n",
    "print(C)"
   ]
  },
  {
   "cell_type": "code",
   "execution_count": 69,
   "id": "67521236",
   "metadata": {},
   "outputs": [
    {
     "name": "stdout",
     "output_type": "stream",
     "text": [
      "[[ 2  8  1  8 10]\n",
      " [ 8  5  9 10 18]\n",
      " [ 1  9  1 42  8]\n",
      " [ 8 10 42  1 12]\n",
      " [10 18  8 12  2]]\n"
     ]
    }
   ],
   "source": [
    "#85\n",
    "class Symetric(np.ndarray):\n",
    "    def __setitem__(self, index, value):\n",
    "        i,j = index\n",
    "        super(Symetric, self).__setitem__((i,j), value)\n",
    "        super(Symetric, self).__setitem__((j,i), value)\n",
    " \n",
    "def symetric(a):\n",
    "    return np.asarray(a+a.T-np.diag(a.diagonal())).view(Symetric)\n",
    " \n",
    "S = symetric(np.random.randint(0,10,(5,5)))\n",
    "S[2,3]=42\n",
    "print(S)"
   ]
  },
  {
   "cell_type": "code",
   "execution_count": 72,
   "id": "0f88474f",
   "metadata": {},
   "outputs": [
    {
     "name": "stdout",
     "output_type": "stream",
     "text": [
      "[[100.]\n",
      " [100.]\n",
      " [100.]\n",
      " [100.]\n",
      " [100.]\n",
      " [100.]\n",
      " [100.]\n",
      " [100.]\n",
      " [100.]\n",
      " [100.]]\n"
     ]
    }
   ],
   "source": [
    "#86\n",
    "p, n = 10,10\n",
    "M = np.ones((p,n,n))\n",
    "V = np.ones((p,n,1))\n",
    "S = np.tensordot(M,V,axes=[[0,2],[0,1]])\n",
    "print(S)"
   ]
  },
  {
   "cell_type": "code",
   "execution_count": 73,
   "id": "bc4e5ef2",
   "metadata": {},
   "outputs": [
    {
     "name": "stdout",
     "output_type": "stream",
     "text": [
      "[[16. 16. 16. 16.]\n",
      " [16. 16. 16. 16.]\n",
      " [16. 16. 16. 16.]\n",
      " [16. 16. 16. 16.]]\n"
     ]
    }
   ],
   "source": [
    "#87\n",
    "Z = np.ones((16,16))\n",
    "k = 4\n",
    "S=np.add.reduceat(np.add.reduceat(Z,np.arange(0,Z.shape[0],k),axis=0),\n",
    "                                    np.arange(0,Z.shape[1],k),axis=1)\n",
    "print(S)"
   ]
  },
  {
   "cell_type": "code",
   "execution_count": 74,
   "id": "761ff3e9",
   "metadata": {},
   "outputs": [],
   "source": [
    "#88\n"
   ]
  },
  {
   "cell_type": "code",
   "execution_count": 77,
   "id": "3a433700",
   "metadata": {},
   "outputs": [
    {
     "name": "stdout",
     "output_type": "stream",
     "text": [
      "[94 95 96 97 98 99]\n",
      "[95 99 98 96 97 94]\n"
     ]
    }
   ],
   "source": [
    "#89\n",
    "Z = np.arange(100)\n",
    "np.random.shuffle(Z)\n",
    "n=6\n",
    "print (Z[np.argsort(Z)[-n:]])\n",
    "print (Z[np.argpartition(-Z,n)[:n]])"
   ]
  },
  {
   "cell_type": "code",
   "execution_count": 80,
   "id": "9835c2f9",
   "metadata": {},
   "outputs": [
    {
     "name": "stdout",
     "output_type": "stream",
     "text": [
      "[[1 2 7]\n",
      " [1 2 8]\n",
      " [1 3 7]\n",
      " [1 3 8]\n",
      " [2 2 7]\n",
      " [2 2 8]\n",
      " [2 3 7]\n",
      " [2 3 8]\n",
      " [3 2 7]\n",
      " [3 2 8]\n",
      " [3 3 7]\n",
      " [3 3 8]]\n"
     ]
    }
   ],
   "source": [
    "#90\n",
    "def cartesian(arrays):\n",
    "    arrays = [np.asarray(a) for a in arrays]\n",
    "    shape = (len(x) for x in arrays)\n",
    "    ix = np.indices(shape, dtype=int)\n",
    "    ix = ix.reshape(len(arrays), -1).T\n",
    "    for n, arr in enumerate(arrays):\n",
    "        ix[:, n] = arrays[n][ix[:, n]]\n",
    "    return ix\n",
    "print (cartesian(([1,2,3],[2,3],[7,8])))"
   ]
  },
  {
   "cell_type": "code",
   "execution_count": 87,
   "id": "512097d7",
   "metadata": {},
   "outputs": [
    {
     "name": "stdout",
     "output_type": "stream",
     "text": [
      "[(b'green', 7.9, 3) (b'love', 5.8, 2)]\n"
     ]
    }
   ],
   "source": [
    "#91\n",
    "Z=np.array([(\"green\",7.9,3),\n",
    "            (\"love\",5.8,2)])\n",
    "R=np.core.records.fromarrays(Z.T,\n",
    "                               names='col1,col2,col3',\n",
    "                               formats='S8,f8,i8')\n",
    "print(R)"
   ]
  },
  {
   "cell_type": "code",
   "execution_count": 90,
   "id": "5b752585",
   "metadata": {},
   "outputs": [
    {
     "name": "stdout",
     "output_type": "stream",
     "text": [
      "4.26 s ± 669 ms per loop (mean ± std. dev. of 7 runs, 1 loop each)\n",
      "575 ms ± 60.2 ms per loop (mean ± std. dev. of 7 runs, 1 loop each)\n",
      "253 ms ± 29.2 ms per loop (mean ± std. dev. of 7 runs, 1 loop each)\n",
      "[0.33117938 0.8298842  0.42684891 ... 0.18530719 0.15583968 0.11971831]\n"
     ]
    }
   ],
   "source": [
    "#92\n",
    "Z=np.random.rand(int(5e7))\n",
    "%timeit np.power(Z,3)\n",
    "%timeit Z*Z*Z\n",
    "%timeit np.einsum('i,i,i->i',Z,Z,Z)"
   ]
  },
  {
   "cell_type": "code",
   "execution_count": 94,
   "id": "4ee60b0b",
   "metadata": {},
   "outputs": [
    {
     "name": "stdout",
     "output_type": "stream",
     "text": [
      "[0 1 7]\n"
     ]
    }
   ],
   "source": [
    "#93\n",
    "A=np.random.randint(0,5,(8,3))\n",
    "B=np.random.randint(0,5,(2,2))\n",
    "C=(A[..., np.newaxis,np.newaxis]==B)\n",
    "rows = np.where(C.any((3,1)).all(1))[0]\n",
    "print(rows)"
   ]
  },
  {
   "cell_type": "code",
   "execution_count": 95,
   "id": "fcf5b012",
   "metadata": {},
   "outputs": [
    {
     "name": "stdout",
     "output_type": "stream",
     "text": [
      "[[3 3 3]\n",
      " [1 1 3]\n",
      " [2 2 4]\n",
      " [1 0 2]\n",
      " [0 0 3]\n",
      " [0 2 0]\n",
      " [3 2 4]\n",
      " [2 1 0]\n",
      " [2 0 2]\n",
      " [3 2 0]]\n"
     ]
    }
   ],
   "source": [
    "#94\n",
    "Z = np.random.randint(0,5,(10,3))\n",
    "print(Z)"
   ]
  },
  {
   "cell_type": "code",
   "execution_count": 96,
   "id": "31f04d3e",
   "metadata": {},
   "outputs": [
    {
     "name": "stdout",
     "output_type": "stream",
     "text": [
      "[[0 0 0 0 0 0 0 0]\n",
      " [0 0 0 0 0 0 0 1]\n",
      " [0 0 0 0 0 0 1 0]\n",
      " [0 0 0 0 0 0 1 1]\n",
      " [0 0 0 0 1 1 1 1]\n",
      " [0 0 0 1 0 0 0 0]\n",
      " [0 0 1 0 0 0 0 0]\n",
      " [0 1 0 0 0 0 0 0]\n",
      " [1 0 0 0 0 0 0 0]]\n"
     ]
    }
   ],
   "source": [
    "#95\n",
    "I = np.array([0, 1, 2, 3, 15, 16, 32, 64, 128], dtype=np.uint8)\n",
    "print(np.unpackbits(I[:, np.newaxis], axis=1))"
   ]
  },
  {
   "cell_type": "code",
   "execution_count": 99,
   "id": "583acb97",
   "metadata": {},
   "outputs": [
    {
     "name": "stdout",
     "output_type": "stream",
     "text": [
      "[[0 0 0]\n",
      " [0 1 1]\n",
      " [1 0 0]]\n"
     ]
    }
   ],
   "source": [
    "#96\n",
    "Z=np.random.randint(0,2,(3,3))\n",
    "T=np.ascontiguousarray(Z).view(np.dtype((np.void,Z.dtype.itemsize * Z.shape[1])))\n",
    "_,idx=np.unique(T,return_index=True)\n",
    "uZ=Z[idx]\n",
    "print(uZ)"
   ]
  },
  {
   "cell_type": "code",
   "execution_count": 103,
   "id": "a703b756",
   "metadata": {},
   "outputs": [
    {
     "data": {
      "text/plain": [
       "array([[0.09179876, 0.06707651, 0.02985358],\n",
       "       [0.24436983, 0.17855879, 0.07947074],\n",
       "       [0.38704356, 0.28280917, 0.12586921]])"
      ]
     },
     "execution_count": 103,
     "metadata": {},
     "output_type": "execute_result"
    }
   ],
   "source": [
    "#97\n",
    "A = np.random.uniform(0,1,3)\n",
    "B = np.random.uniform(0,1,3)\n",
    "np.einsum('i->', A)       \n",
    "np.einsum('i,i->i', A, B) \n",
    "np.einsum('i,i', A, B)    \n",
    "np.einsum('i,j->ij', A, B)"
   ]
  },
  {
   "cell_type": "code",
   "execution_count": 104,
   "id": "f00a8a18",
   "metadata": {},
   "outputs": [],
   "source": [
    "#98\n"
   ]
  },
  {
   "cell_type": "code",
   "execution_count": 107,
   "id": "f4ff5f3f",
   "metadata": {},
   "outputs": [
    {
     "name": "stdout",
     "output_type": "stream",
     "text": [
      "[[2. 0. 1. 1.]]\n"
     ]
    }
   ],
   "source": [
    "#99\n",
    "X=np.asarray([[1.0, 0.0, 3.0, 9.0],\n",
    "              [2.0, 0.0, 1.0, 1.0],\n",
    "              [1.5, 2.5, 1.0, 0.0]])\n",
    "n=4\n",
    "M=np.logical_and.reduce(np.mod(X,1)==0,axis=-1)\n",
    "M &=(X.sum(axis=-1)==n)\n",
    "print(X[M])"
   ]
  },
  {
   "cell_type": "code",
   "execution_count": 112,
   "id": "7b6d7a12",
   "metadata": {},
   "outputs": [
    {
     "name": "stdout",
     "output_type": "stream",
     "text": [
      "[-0.18375067  0.16036604]\n"
     ]
    }
   ],
   "source": [
    "#100\n",
    "X = np.random.randn(100) \n",
    "N = 1000\n",
    "idx = np.random.randint(0, X.size,(N,X.size))\n",
    "means = X[idx].mean(axis=1)\n",
    "confint = np.percentile(means,[2.5,97.5])\n",
    "print(confint)"
   ]
  },
  {
   "cell_type": "code",
   "execution_count": null,
   "id": "457de791",
   "metadata": {},
   "outputs": [],
   "source": []
  },
  {
   "cell_type": "code",
   "execution_count": null,
   "id": "75ea7b77",
   "metadata": {},
   "outputs": [],
   "source": []
  }
 ],
 "metadata": {
  "kernelspec": {
   "display_name": "Python 3",
   "language": "python",
   "name": "python3"
  },
  "language_info": {
   "codemirror_mode": {
    "name": "ipython",
    "version": 3
   },
   "file_extension": ".py",
   "mimetype": "text/x-python",
   "name": "python",
   "nbconvert_exporter": "python",
   "pygments_lexer": "ipython3",
   "version": "3.8.8"
  }
 },
 "nbformat": 4,
 "nbformat_minor": 5
}
